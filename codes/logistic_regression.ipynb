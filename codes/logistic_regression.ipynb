{
 "cells": [
  {
   "cell_type": "code",
   "execution_count": 1,
   "id": "f00460c4-010b-4df4-a370-87ef2dcf586c",
   "metadata": {},
   "outputs": [],
   "source": [
    "import pandas as analytics\n",
    "import numpy as maths\n",
    "import matplotlib.pyplot as graph\n",
    "import os\n",
    "from math import exp , log, log10"
   ]
  },
  {
   "cell_type": "code",
   "execution_count": 2,
   "id": "5db666db",
   "metadata": {},
   "outputs": [],
   "source": [
    "os.chdir('../dependencies/')\n",
    "from logistic_regression import logistic_regression"
   ]
  },
  {
   "cell_type": "code",
   "execution_count": 3,
   "id": "c04e490e",
   "metadata": {},
   "outputs": [],
   "source": [
    "def loss(f_x,y):\n",
    "    if y == 1 : return y*log(abs(f_x))\n",
    "    else : return (1-y)*log(abs(1-f_x))\n",
    "    "
   ]
  },
  {
   "cell_type": "code",
   "execution_count": 4,
   "id": "c43355b2",
   "metadata": {},
   "outputs": [],
   "source": [
    "def plot_graph(name,var):\n",
    "    figure = graph.figure(figsize = (15,10))\n",
    "    graph.ylabel(name)\n",
    "    graph.xlabel(\"Iterations\")\n",
    "    graph.title(name)\n",
    "    graph.plot(var,label=name)\n",
    "    graph.legend()\n",
    "    graph.grid(True)\n",
    "    "
   ]
  },
  {
   "cell_type": "code",
   "execution_count": 5,
   "id": "070faf83",
   "metadata": {},
   "outputs": [],
   "source": [
    "def norm(vector):\n",
    "    vector = [v**2 for v in vector]\n",
    "    vector = float(sum(vector))\n",
    "    vector = vector ** 0.5\n",
    "    return vector\n",
    "\n",
    "# def sigmoid(x,w):\n",
    "#     f_x = 1/(1 + exp(-float(maths.matmul(w.T,x)))) \n",
    "#     return f_x\n",
    "\n",
    "def logit(f_x):\n",
    "    if f_x == 1: return 0\n",
    "    if f_x == 0: return 1\n",
    "    else : return log(abs(f_x)/abs(1-f_x))"
   ]
  },
  {
   "cell_type": "code",
   "execution_count": 6,
   "id": "3e1e396c",
   "metadata": {},
   "outputs": [],
   "source": [
    "def create_confusion_matrix(y,y_hat):\n",
    "    \"\"\" Creating the confusion matrix \"\"\"\n",
    "\n",
    "    tp = 0\n",
    "    fp = 0\n",
    "    tn = 0\n",
    "    fn = 0\n",
    "    for i in range(len(y)):\n",
    "        if y[i] == y_hat[i] == 1:\n",
    "            tp = tp + 1\n",
    "        elif y[i] == y_hat[i] == 0:\n",
    "            tn = tn + 1\n",
    "        elif y[i] == 1 and y_hat[i] == 0:\n",
    "            fn = fn + 1\n",
    "        else :\n",
    "            fp = fp + 1\n",
    "\n",
    "    confusion_matrix = {'tp':tp,'tn':tn,'fp':fp,'fn':fn}\n",
    "    print(\"Confusion Matrix : \",confusion_matrix)\n",
    "    accuracy = round((confusion_matrix['tp']+confusion_matrix['tn'])/(confusion_matrix['tp'] + confusion_matrix['tn'] + confusion_matrix['fp'] + confusion_matrix['fn'])*100,2)\n",
    "    precision = round((confusion_matrix['tp'])/(confusion_matrix['fp']+confusion_matrix['tp'])*100,2) \n",
    "    sensitivity = round((confusion_matrix['tp'])/(confusion_matrix['tp']+confusion_matrix['fn'])*100,2)\n",
    "    specificity = round((confusion_matrix['tn'])/(confusion_matrix['fp']+confusion_matrix['tn'])*100,2)\n",
    "\n",
    "    \n",
    "    print('Accuracy : ', accuracy)\n",
    "    print('Precision : ', precision)\n",
    "    print('Senstivity : ', sensitivity)\n",
    "    print('Specificity : ', specificity)\n",
    "    \n",
    "#     accuracy = find_accuracy()\n",
    "#     precision = find_precision()\n",
    "#     sensitivity = find_sensitivity()\n",
    "#     specificity = find_specificity()\n",
    "#     fscore = find_fscore()\n",
    "\n",
    "\n",
    "def find_precision(show = True):\n",
    "    \"\"\" Finding Precision \"\"\"\n",
    "\n",
    "    confusion_matrix = confusion_matrix\n",
    "    precision = round((confusion_matrix['tp'])/(confusion_matrix['fp']+confusion_matrix['tp'])*100,2) \n",
    "    if show : print(\"Precision : \",precision,\"%\")\n",
    "    return precision\n",
    "\n",
    "def find_accuracy(show = True):\n",
    "    \"\"\" Finding Accuracy \"\"\"\n",
    "\n",
    "    confusion_matrix = confusion_matrix\n",
    "    accuracy = round((confusion_matrix['tp']+confusion_matrix['tn'])/(confusion_matrix['tp'] + confusion_matrix['tn'] + confusion_matrix['fp'] + confusion_matrix['fn'])*100,2)\n",
    "    if show : print(\"Accuracy : \",accuracy,\"%\")\n",
    "    return accuracy\n",
    "\n",
    "def find_sensitivity(show = True):\n",
    "    \"\"\" Finding Sensivity \"\"\"\n",
    "\n",
    "    confusion_matrix = confusion_matrix\n",
    "    sensitivity = round((confusion_matrix['tp'])/(confusion_matrix['tp']+confusion_matrix['fn'])*100,2)\n",
    "    if show : print(\"Sensivity : \",sensitivity,\"%\")\n",
    "    return sensitivity\n",
    "\n",
    "def find_specificity(show = True):\n",
    "    \"\"\" Finding Specificity \"\"\"\n",
    "\n",
    "    confusion_matrix = confusion_matrix\n",
    "    specificity = round((confusion_matrix['tn'])/(confusion_matrix['fp']+confusion_matrix['tn'])*100,2)\n",
    "    if show : print(\"Specificity : \",specificity,\"%\")\n",
    "    return specificity\n",
    "\n",
    "def find_fscore(show=True):\n",
    "    \"\"\" Finding FScore \"\"\"\n",
    "\n",
    "    confusion_matrix = confusion_matrix\n",
    "    f_score = round(2/((1/find_precision(False))+(1/find_sensitivity(False))),2)\n",
    "    if show : print(\"F1 Score : \",f_score)\n",
    "    return f_score        \n"
   ]
  },
  {
   "cell_type": "code",
   "execution_count": 7,
   "id": "1b9cae86-99ae-4c8d-b2eb-c94d18895cff",
   "metadata": {},
   "outputs": [],
   "source": [
    "filename = 'data3'\n",
    "validation_perc = 0.7\n",
    "training_perc = 0.8\n",
    "alphas = maths.arange(0,1,0.1)\n",
    "number_of_iterations = 10\n",
    "training_perc = 0.7"
   ]
  },
  {
   "cell_type": "code",
   "execution_count": 8,
   "id": "146d0d0f",
   "metadata": {},
   "outputs": [],
   "source": [
    "log_reg = logistic_regression()\n",
    "log_reg.load_data(filename)\n",
    "df_validation, df_test = log_reg.split_dataset(validation_perc , training_perc)\n",
    "# log_reg.find_weights(alphas, number_of_iterations )\n",
    "# log_reg.classify(df_test)"
   ]
  },
  {
   "cell_type": "code",
   "execution_count": 9,
   "id": "7e84fd8f",
   "metadata": {},
   "outputs": [],
   "source": [
    "df_validation = df_validation.reset_index(drop=True)\n",
    "df_test = df_test.reset_index(drop=True)"
   ]
  },
  {
   "cell_type": "code",
   "execution_count": 10,
   "id": "af18f313",
   "metadata": {},
   "outputs": [
    {
     "data": {
      "text/html": [
       "<div>\n",
       "<style scoped>\n",
       "    .dataframe tbody tr th:only-of-type {\n",
       "        vertical-align: middle;\n",
       "    }\n",
       "\n",
       "    .dataframe tbody tr th {\n",
       "        vertical-align: top;\n",
       "    }\n",
       "\n",
       "    .dataframe thead th {\n",
       "        text-align: right;\n",
       "    }\n",
       "</style>\n",
       "<table border=\"1\" class=\"dataframe\">\n",
       "  <thead>\n",
       "    <tr style=\"text-align: right;\">\n",
       "      <th></th>\n",
       "      <th>x0</th>\n",
       "      <th>x1</th>\n",
       "      <th>x2</th>\n",
       "      <th>y</th>\n",
       "    </tr>\n",
       "  </thead>\n",
       "  <tbody>\n",
       "    <tr>\n",
       "      <th>0</th>\n",
       "      <td>1</td>\n",
       "      <td>-0.756527</td>\n",
       "      <td>-0.751738</td>\n",
       "      <td>1</td>\n",
       "    </tr>\n",
       "    <tr>\n",
       "      <th>1</th>\n",
       "      <td>1</td>\n",
       "      <td>-0.207527</td>\n",
       "      <td>-0.342348</td>\n",
       "      <td>0</td>\n",
       "    </tr>\n",
       "    <tr>\n",
       "      <th>2</th>\n",
       "      <td>1</td>\n",
       "      <td>-0.725768</td>\n",
       "      <td>-0.661625</td>\n",
       "      <td>1</td>\n",
       "    </tr>\n",
       "    <tr>\n",
       "      <th>3</th>\n",
       "      <td>1</td>\n",
       "      <td>-0.713645</td>\n",
       "      <td>-0.839598</td>\n",
       "      <td>1</td>\n",
       "    </tr>\n",
       "    <tr>\n",
       "      <th>4</th>\n",
       "      <td>1</td>\n",
       "      <td>-0.292763</td>\n",
       "      <td>-0.324568</td>\n",
       "      <td>0</td>\n",
       "    </tr>\n",
       "    <tr>\n",
       "      <th>...</th>\n",
       "      <td>...</td>\n",
       "      <td>...</td>\n",
       "      <td>...</td>\n",
       "      <td>...</td>\n",
       "    </tr>\n",
       "    <tr>\n",
       "      <th>135</th>\n",
       "      <td>1</td>\n",
       "      <td>-0.661613</td>\n",
       "      <td>-0.708658</td>\n",
       "      <td>1</td>\n",
       "    </tr>\n",
       "    <tr>\n",
       "      <th>136</th>\n",
       "      <td>1</td>\n",
       "      <td>-0.215439</td>\n",
       "      <td>-0.347867</td>\n",
       "      <td>0</td>\n",
       "    </tr>\n",
       "    <tr>\n",
       "      <th>137</th>\n",
       "      <td>1</td>\n",
       "      <td>-0.306533</td>\n",
       "      <td>-0.436580</td>\n",
       "      <td>0</td>\n",
       "    </tr>\n",
       "    <tr>\n",
       "      <th>138</th>\n",
       "      <td>1</td>\n",
       "      <td>-0.316729</td>\n",
       "      <td>-0.270946</td>\n",
       "      <td>0</td>\n",
       "    </tr>\n",
       "    <tr>\n",
       "      <th>139</th>\n",
       "      <td>1</td>\n",
       "      <td>-0.417783</td>\n",
       "      <td>-0.365154</td>\n",
       "      <td>0</td>\n",
       "    </tr>\n",
       "  </tbody>\n",
       "</table>\n",
       "<p>140 rows × 4 columns</p>\n",
       "</div>"
      ],
      "text/plain": [
       "     x0        x1        x2  y\n",
       "0     1 -0.756527 -0.751738  1\n",
       "1     1 -0.207527 -0.342348  0\n",
       "2     1 -0.725768 -0.661625  1\n",
       "3     1 -0.713645 -0.839598  1\n",
       "4     1 -0.292763 -0.324568  0\n",
       "..   ..       ...       ... ..\n",
       "135   1 -0.661613 -0.708658  1\n",
       "136   1 -0.215439 -0.347867  0\n",
       "137   1 -0.306533 -0.436580  0\n",
       "138   1 -0.316729 -0.270946  0\n",
       "139   1 -0.417783 -0.365154  0\n",
       "\n",
       "[140 rows x 4 columns]"
      ]
     },
     "execution_count": 10,
     "metadata": {},
     "output_type": "execute_result"
    }
   ],
   "source": [
    "for col in df_validation.columns[1:-1] :\n",
    "    maximum = max(df_validation[col])\n",
    "    minimum = min(df_validation[col])\n",
    "    diff = maximum - minimum\n",
    "    \n",
    "    df_validation[col] = (df_validation[col] - maximum) / diff\n",
    "    df_test[col] = (df_test[col] - maximum) / diff\n",
    "df_validation"
   ]
  },
  {
   "cell_type": "code",
   "execution_count": 11,
   "id": "3775716c",
   "metadata": {},
   "outputs": [],
   "source": [
    "def sigmoid(x,w):\n",
    "    return 1/(1 + exp(-float(w.T@x)))"
   ]
  },
  {
   "cell_type": "code",
   "execution_count": 12,
   "id": "4a077095",
   "metadata": {},
   "outputs": [],
   "source": [
    "def liklihood(x,y,w):\n",
    "    y_hat = sigmoid(x,w)\n",
    "    if y_hat == 1: return y*log(y_hat)\n",
    "    else : return y*log(abs(y_hat)) + (1-y)*log(abs(1-y_hat))"
   ]
  },
  {
   "cell_type": "code",
   "execution_count": 13,
   "id": "e086537b",
   "metadata": {},
   "outputs": [],
   "source": [
    "def norm(z):\n",
    "    z = list(z)\n",
    "    return float(sum([z**2 for z in z]))**0.5"
   ]
  },
  {
   "cell_type": "code",
   "execution_count": 14,
   "id": "8a83455d",
   "metadata": {},
   "outputs": [],
   "source": [
    "def logit(x,w):\n",
    "    f_x = sigmoid(x,w)\n",
    "    if f_x == 1 : return 1\n",
    "    elif f_x == 0 : return 0 \n",
    "    else : return log(abs(f_x/(1-f_x)))\n",
    "    "
   ]
  },
  {
   "cell_type": "code",
   "execution_count": 15,
   "id": "fa18ffc1-2b40-41de-a5ed-9802e5d4d829",
   "metadata": {},
   "outputs": [
    {
     "name": "stdout",
     "output_type": "stream",
     "text": [
      "[[-16.3527683 ]\n",
      " [-19.43934264]\n",
      " [-13.7411936 ]]\n",
      "839\n"
     ]
    }
   ],
   "source": [
    "df_validation = df_validation.sample(frac=1)\n",
    "X = df_validation.iloc[:,:-1].reset_index(drop=True)\n",
    "Y = df_validation.iloc[:,-1].reset_index(drop=True)\n",
    "\n",
    "epsilon = 1e-3\n",
    "diff_eps = 1e-7\n",
    "w_stars = {}\n",
    "meta_norms = {}\n",
    "meta_liklihoods = {}\n",
    "alphas = [0.1]\n",
    "\n",
    "for alpha in alphas:\n",
    "    w_star = maths.matrix(maths.random.rand(X.shape[1])).T\n",
    "    \n",
    "    w_old = w_star + [1]\n",
    "    \n",
    "    \n",
    "    # epsilon = 1e-3\n",
    "    # alpha = 0.1\n",
    "    liklihoods = []\n",
    "    # sigmoids = []\n",
    "    weights = []\n",
    "    norms = [1000,100]\n",
    "    differential = 1\n",
    "    iteration = 0 \n",
    "    \n",
    "    # while norm(w_star - w_old) > epsilon and differential > diff_eps:\n",
    "    while (norms[iteration]/norms[iteration+1] - 1) > epsilon :\n",
    "        iteration = iteration + 1\n",
    "        \n",
    "        w_old = w_star\n",
    "        loss = []\n",
    "    \n",
    "        for i in range(len(X)):\n",
    "            x = maths.matrix(X.iloc[i]).T\n",
    "            y = Y.iloc[i]\n",
    "            y_hat = sigmoid(x,w_star)\n",
    "            w_star = w_star + alpha * (y - y_hat) * x\n",
    "            loss.append(liklihood(x,y,w_star))\n",
    "        \n",
    "        weights.append(w_star.T)\n",
    "        # sigmoids.append(y_hat)\n",
    "        norms.append(norm( w_star - w_old ))\n",
    "        if len(norms) > 2:\n",
    "            differential = norms[-2] - norms[-1]\n",
    "        liklihoods.append(sum(loss))\n",
    "\n",
    "    w_stars.update({epsilon:w_star})\n",
    "    meta_norms.update({epsilon:norms})\n",
    "    meta_liklihoods.update({epsilon:liklihoods})\n",
    "    \n",
    "    print(w_star)\n",
    "print(len(norms))"
   ]
  },
  {
   "cell_type": "code",
   "execution_count": 16,
   "id": "4b22d6f0",
   "metadata": {
    "scrolled": true
   },
   "outputs": [
    {
     "data": {
      "text/plain": [
       "(array([838.,   0.,   0.,   0.,   0.,   0.,   0.,   0.,   0.,   1.]),\n",
       " array([7.60994786e-03, 1.00006849e+02, 2.00006088e+02, 3.00005327e+02,\n",
       "        4.00004566e+02, 5.00003805e+02, 6.00003044e+02, 7.00002283e+02,\n",
       "        8.00001522e+02, 9.00000761e+02, 1.00000000e+03]),\n",
       " <BarContainer object of 10 artists>)"
      ]
     },
     "execution_count": 16,
     "metadata": {},
     "output_type": "execute_result"
    },
    {
     "data": {
      "image/png": "[encoded data removed]",
      "text/plain": [
       "<Figure size 432x288 with 1 Axes>"
      ]
     },
     "metadata": {
      "needs_background": "light"
     },
     "output_type": "display_data"
    }
   ],
   "source": [
    "graph.hist(norms)"
   ]
  },
  {
   "cell_type": "code",
   "execution_count": 17,
   "id": "0755107c",
   "metadata": {},
   "outputs": [
    {
     "data": {
      "image/png": "[encoded data removed]",
      "text/plain": [
       "<Figure size 1296x720 with 3 Axes>"
      ]
     },
     "metadata": {
      "needs_background": "light"
     },
     "output_type": "display_data"
    }
   ],
   "source": [
    "x = [float(weight.T[0]) for weight in weights]\n",
    "y = [float(weight.T[1]) for weight in weights]\n",
    "z = [float(weight.T[2]) for weight in weights]\n",
    "\n",
    "figure = graph.figure(figsize=(18,10))\n",
    "\n",
    "graph.subplot(1,3,1)\n",
    "graph.plot(x)\n",
    "graph.title('X')\n",
    "\n",
    "graph.subplot(1,3,2)\n",
    "graph.plot(y)\n",
    "graph.title('Y')\n",
    "\n",
    "graph.subplot(1,3,3)\n",
    "graph.plot(z)\n",
    "graph.title('Z')\n",
    "\n",
    "graph.show()"
   ]
  },
  {
   "cell_type": "code",
   "execution_count": 18,
   "id": "f91c21be",
   "metadata": {},
   "outputs": [
    {
     "data": {
      "text/plain": [
       "True"
      ]
     },
     "execution_count": 18,
     "metadata": {},
     "output_type": "execute_result"
    }
   ],
   "source": [
    "liklihoods[-1] == max(liklihoods)"
   ]
  },
  {
   "cell_type": "code",
   "execution_count": 19,
   "id": "650a4746",
   "metadata": {},
   "outputs": [
    {
     "data": {
      "image/png": "[encoded data removed]",
      "text/plain": [
       "<Figure size 1080x1080 with 1 Axes>"
      ]
     },
     "metadata": {
      "needs_background": "light"
     },
     "output_type": "display_data"
    }
   ],
   "source": [
    "figure = graph.figure(figsize=(15,15))\n",
    "graph.hist(liklihoods,label = 'Frequency of Liklihood')\n",
    "graph.legend()\n",
    "graph.title(\"Liklihood Frequency\")\n",
    "graph.grid()\n",
    "graph.xlabel(\"Liklihood Values\")\n",
    "graph.ylabel(\"Frequency\")\n",
    "graph.show()"
   ]
  },
  {
   "cell_type": "code",
   "execution_count": 20,
   "id": "f98a32ba",
   "metadata": {},
   "outputs": [],
   "source": [
    "# figure = graph.figure(figsize=(15,15))\n",
    "# graph.scatter(sigmoids,liklihoods,c = 'blue',label = 'Liklihood',alpha = 0.1)\n",
    "# graph.legend()\n",
    "# graph.title(\"Liklihood vs Sigmoid\")\n",
    "# graph.grid()\n",
    "# graph.xlabel(\"Sigmoid\")\n",
    "# graph.ylabel(\"Liklihood\")\n",
    "# graph.show()"
   ]
  },
  {
   "cell_type": "code",
   "execution_count": 21,
   "id": "2c20ea0e",
   "metadata": {},
   "outputs": [
    {
     "name": "stdout",
     "output_type": "stream",
     "text": [
      "-0.7214441560448906\n"
     ]
    },
    {
     "data": {
      "image/png": "[encoded data removed]",
      "text/plain": [
       "<Figure size 432x288 with 1 Axes>"
      ]
     },
     "metadata": {
      "needs_background": "light"
     },
     "output_type": "display_data"
    }
   ],
   "source": [
    "graph.title(\"Liklihood\")\n",
    "graph.plot(liklihoods)\n",
    "print(max(liklihoods))"
   ]
  },
  {
   "cell_type": "code",
   "execution_count": 22,
   "id": "1a82e18f",
   "metadata": {},
   "outputs": [
    {
     "name": "stdout",
     "output_type": "stream",
     "text": [
      "0.007609947862984265\n"
     ]
    },
    {
     "data": {
      "image/png": "[encoded data removed]",
      "text/plain": [
       "<Figure size 432x288 with 1 Axes>"
      ]
     },
     "metadata": {
      "needs_background": "light"
     },
     "output_type": "display_data"
    }
   ],
   "source": [
    "graph.title(\"Norms\")\n",
    "graph.plot(norms)\n",
    "print(min(norms))"
   ]
  },
  {
   "cell_type": "code",
   "execution_count": 23,
   "id": "8a3e227d",
   "metadata": {},
   "outputs": [],
   "source": [
    "threshold = 0.5"
   ]
  },
  {
   "cell_type": "code",
   "execution_count": 24,
   "id": "feeed734",
   "metadata": {},
   "outputs": [],
   "source": [
    "X = df_test.iloc[:,:-1]\n",
    "Y = df_test.iloc[:,-1]\n",
    "y_hat = []\n",
    "dbs = []\n",
    "\n",
    "for i in range(len(df_test)):\n",
    "    x = X.iloc[i]\n",
    "    y = Y.iloc[i]\n",
    "    y_hat.append(logit(x,w_star))\n",
    "    # dbs.append(w_star.T@x)\n",
    "\n",
    "y_hat = [1 if y > threshold else 0 for y in y_hat]\n",
    "df_test['y_hat'] = y_hat"
   ]
  },
  {
   "cell_type": "code",
   "execution_count": 25,
   "id": "d81b2eb4",
   "metadata": {},
   "outputs": [
    {
     "data": {
      "image/png": "[encoded data removed]",
      "text/plain": [
       "<Figure size 1080x1080 with 1 Axes>"
      ]
     },
     "metadata": {
      "needs_background": "light"
     },
     "output_type": "display_data"
    }
   ],
   "source": [
    "figure = graph.figure(figsize=(15,15))\n",
    "graph.scatter([i for i in range(len(df_test['y']))],df_test['y'],alpha = 0.8,color = 'yellow')\n",
    "graph.scatter([i for i in range(len(df_test['y_hat']))],df_test['y_hat'], alpha = 0.5, edgecolor = 'red',color = 'yellow')\n",
    "graph.grid(True)\n",
    "# graph.plot(dbs)"
   ]
  },
  {
   "cell_type": "code",
   "execution_count": 26,
   "id": "36eecc25",
   "metadata": {},
   "outputs": [
    {
     "data": {
      "text/plain": [
       "matrix([[-16.3527683 ],\n",
       "        [-19.43934264],\n",
       "        [-13.7411936 ]])"
      ]
     },
     "execution_count": 26,
     "metadata": {},
     "output_type": "execute_result"
    }
   ],
   "source": [
    "w_star"
   ]
  },
  {
   "cell_type": "code",
   "execution_count": 27,
   "id": "0748fdf6",
   "metadata": {},
   "outputs": [
    {
     "name": "stdout",
     "output_type": "stream",
     "text": [
      "Confusion Matrix :  {'tp': 27, 'tn': 33, 'fp': 0, 'fn': 0}\n",
      "Accuracy :  100.0\n",
      "Precision :  100.0\n",
      "Senstivity :  100.0\n",
      "Specificity :  100.0\n"
     ]
    }
   ],
   "source": [
    "create_confusion_matrix(df_test['y'],df_test['y_hat'])"
   ]
  },
  {
   "cell_type": "code",
   "execution_count": 28,
   "id": "5e7ee757-5812-46f3-b25f-234d19ba2d78",
   "metadata": {},
   "outputs": [],
   "source": [
    "norms_copy = norms.copy()"
   ]
  },
  {
   "cell_type": "code",
   "execution_count": 29,
   "id": "340069b1-c76e-455e-877f-e742976945ec",
   "metadata": {},
   "outputs": [
    {
     "data": {
      "image/png": "[encoded data removed]",
      "text/plain": [
       "<Figure size 1440x1080 with 1 Axes>"
      ]
     },
     "metadata": {
      "needs_background": "light"
     },
     "output_type": "display_data"
    },
    {
     "data": {
      "text/plain": [
       "<contextlib.ExitStack at 0x7ff502a66890>"
      ]
     },
     "execution_count": 29,
     "metadata": {},
     "output_type": "execute_result"
    }
   ],
   "source": [
    "figure = graph.figure(figsize=(20,15))\n",
    "graph.plot(norms,label = 'Norms')\n",
    "# graph.scatter(norms.index(maths.median(norms)),maths.median(norms),color = 'red', marker = 'x' , label = 'Median')\n",
    "# graph.scatter(norms.index(maths.mean(norms)),maths.mean(norms),color = 'red', marker = 'x' , label = 'Mean')\n",
    "graph.grid(True)\n",
    "graph.legend()\n",
    "graph.xlim(500)\n",
    "graph.ylim(0,0.020)\n",
    "graph.show()\n",
    "graph.ion()"
   ]
  },
  {
   "cell_type": "code",
   "execution_count": 30,
   "id": "ff860f9d-9524-4b52-86dd-8153823230cd",
   "metadata": {},
   "outputs": [],
   "source": [
    "k_norms = [i for i in norms if i > epsilon]"
   ]
  },
  {
   "cell_type": "code",
   "execution_count": 31,
   "id": "877b11a7-b2b7-457d-87cb-7bfe97ba84a5",
   "metadata": {},
   "outputs": [
    {
     "data": {
      "text/plain": [
       "839"
      ]
     },
     "execution_count": 31,
     "metadata": {},
     "output_type": "execute_result"
    }
   ],
   "source": [
    "len(k_norms)"
   ]
  },
  {
   "cell_type": "code",
   "execution_count": 32,
   "id": "b9d4b346-ea41-478e-ae48-12929cc6d8b3",
   "metadata": {},
   "outputs": [
    {
     "data": {
      "text/plain": [
       "(0.0, 0.0001)"
      ]
     },
     "execution_count": 32,
     "metadata": {},
     "output_type": "execute_result"
    },
    {
     "data": {
      "image/png": "[encoded data removed]",
      "text/plain": [
       "<Figure size 432x288 with 1 Axes>"
      ]
     },
     "metadata": {
      "needs_background": "light"
     },
     "output_type": "display_data"
    }
   ],
   "source": [
    "diff = []\n",
    "for i in range(len(k_norms)-1):\n",
    "    diff.append(k_norms[i]-k_norms[i+1])\n",
    "graph.plot(diff)\n",
    "graph.xlim(0,1000)\n",
    "graph.ylim(0,0.0001)\n",
    "# graph.show()\n",
    "# graph.ion()"
   ]
  },
  {
   "cell_type": "code",
   "execution_count": 33,
   "id": "70eb2928-ea52-4ad5-95ec-ce09c9c58846",
   "metadata": {},
   "outputs": [
    {
     "data": {
      "text/html": [
       "<div>\n",
       "<style scoped>\n",
       "    .dataframe tbody tr th:only-of-type {\n",
       "        vertical-align: middle;\n",
       "    }\n",
       "\n",
       "    .dataframe tbody tr th {\n",
       "        vertical-align: top;\n",
       "    }\n",
       "\n",
       "    .dataframe thead th {\n",
       "        text-align: right;\n",
       "    }\n",
       "</style>\n",
       "<table border=\"1\" class=\"dataframe\">\n",
       "  <thead>\n",
       "    <tr style=\"text-align: right;\">\n",
       "      <th></th>\n",
       "      <th>x0</th>\n",
       "      <th>x1</th>\n",
       "      <th>x2</th>\n",
       "      <th>y</th>\n",
       "      <th>y_hat</th>\n",
       "    </tr>\n",
       "  </thead>\n",
       "  <tbody>\n",
       "    <tr>\n",
       "      <th>0</th>\n",
       "      <td>1</td>\n",
       "      <td>-0.632025</td>\n",
       "      <td>-0.681232</td>\n",
       "      <td>1</td>\n",
       "      <td>1</td>\n",
       "    </tr>\n",
       "    <tr>\n",
       "      <th>1</th>\n",
       "      <td>1</td>\n",
       "      <td>-0.279171</td>\n",
       "      <td>-0.432208</td>\n",
       "      <td>0</td>\n",
       "      <td>0</td>\n",
       "    </tr>\n",
       "    <tr>\n",
       "      <th>2</th>\n",
       "      <td>1</td>\n",
       "      <td>-0.668360</td>\n",
       "      <td>-0.727224</td>\n",
       "      <td>1</td>\n",
       "      <td>1</td>\n",
       "    </tr>\n",
       "    <tr>\n",
       "      <th>3</th>\n",
       "      <td>1</td>\n",
       "      <td>-0.744781</td>\n",
       "      <td>-0.746703</td>\n",
       "      <td>1</td>\n",
       "      <td>1</td>\n",
       "    </tr>\n",
       "    <tr>\n",
       "      <th>4</th>\n",
       "      <td>1</td>\n",
       "      <td>-0.743521</td>\n",
       "      <td>-0.822708</td>\n",
       "      <td>1</td>\n",
       "      <td>1</td>\n",
       "    </tr>\n",
       "  </tbody>\n",
       "</table>\n",
       "</div>"
      ],
      "text/plain": [
       "   x0        x1        x2  y  y_hat\n",
       "0   1 -0.632025 -0.681232  1      1\n",
       "1   1 -0.279171 -0.432208  0      0\n",
       "2   1 -0.668360 -0.727224  1      1\n",
       "3   1 -0.744781 -0.746703  1      1\n",
       "4   1 -0.743521 -0.822708  1      1"
      ]
     },
     "execution_count": 33,
     "metadata": {},
     "output_type": "execute_result"
    }
   ],
   "source": [
    "df_test.head()"
   ]
  },
  {
   "cell_type": "code",
   "execution_count": 34,
   "id": "6fc05c0b-36e9-43d7-9d7a-d763f5de39aa",
   "metadata": {},
   "outputs": [
    {
     "data": {
      "text/plain": [
       "<matplotlib.collections.PathCollection at 0x7ff502983880>"
      ]
     },
     "execution_count": 34,
     "metadata": {},
     "output_type": "execute_result"
    },
    {
     "data": {
      "image/png": "[encoded data removed]",
      "text/plain": [
       "<Figure size 432x288 with 1 Axes>"
      ]
     },
     "metadata": {
      "needs_background": "light"
     },
     "output_type": "display_data"
    }
   ],
   "source": [
    "graph.scatter(df_test['x1'],df_test['x2'],c = 'blue')\n",
    "# graph.plot(df_test.iloc[:,:3] @ w_star)\n",
    "# graph.xlabel('x1')\n",
    "# graph.ylabel('x2')\n"
   ]
  },
  {
   "cell_type": "code",
   "execution_count": 35,
   "id": "fc3b0f37-aa1d-4f25-93ef-40679387379b",
   "metadata": {},
   "outputs": [],
   "source": [
    "i = 0"
   ]
  },
  {
   "cell_type": "code",
   "execution_count": 36,
   "id": "e4043920-365b-4059-9feb-5503dbebb288",
   "metadata": {},
   "outputs": [
    {
     "data": {
      "text/plain": [
       "10.0"
      ]
     },
     "execution_count": 36,
     "metadata": {},
     "output_type": "execute_result"
    }
   ],
   "source": [
    "k_norms[i] / k_norms[i+1]"
   ]
  },
  {
   "cell_type": "code",
   "execution_count": 37,
   "id": "5589f8c1-607b-4e63-9d0b-068c83303898",
   "metadata": {},
   "outputs": [
    {
     "ename": "IndexError",
     "evalue": "list index out of range",
     "output_type": "error",
     "traceback": [
      "\u001b[0;31m---------------------------------------------------------------------------\u001b[0m",
      "\u001b[0;31mIndexError\u001b[0m                                Traceback (most recent call last)",
      "\u001b[0;32m/tmp/ipykernel_12818/588137108.py\u001b[0m in \u001b[0;36m<module>\u001b[0;34m\u001b[0m\n\u001b[1;32m      1\u001b[0m \u001b[0mi\u001b[0m \u001b[0;34m=\u001b[0m \u001b[0;36m0\u001b[0m\u001b[0;34m\u001b[0m\u001b[0;34m\u001b[0m\u001b[0m\n\u001b[0;32m----> 2\u001b[0;31m \u001b[0;32mwhile\u001b[0m \u001b[0;34m(\u001b[0m\u001b[0mnorms\u001b[0m\u001b[0;34m[\u001b[0m\u001b[0mi\u001b[0m\u001b[0;34m]\u001b[0m\u001b[0;34m/\u001b[0m\u001b[0mnorms\u001b[0m\u001b[0;34m[\u001b[0m\u001b[0mi\u001b[0m\u001b[0;34m+\u001b[0m\u001b[0;36m1\u001b[0m\u001b[0;34m]\u001b[0m \u001b[0;34m-\u001b[0m \u001b[0;36m1\u001b[0m\u001b[0;34m)\u001b[0m \u001b[0;34m>\u001b[0m \u001b[0;36m0.0001\u001b[0m\u001b[0;34m:\u001b[0m \u001b[0mi\u001b[0m \u001b[0;34m=\u001b[0m \u001b[0mi\u001b[0m\u001b[0;34m+\u001b[0m\u001b[0;36m1\u001b[0m\u001b[0;34m\u001b[0m\u001b[0;34m\u001b[0m\u001b[0m\n\u001b[0m\u001b[1;32m      3\u001b[0m \u001b[0mprint\u001b[0m\u001b[0;34m(\u001b[0m\u001b[0mi\u001b[0m\u001b[0;34m)\u001b[0m\u001b[0;34m\u001b[0m\u001b[0;34m\u001b[0m\u001b[0m\n",
      "\u001b[0;31mIndexError\u001b[0m: list index out of range"
     ]
    }
   ],
   "source": [
    "i = 0\n",
    "while (norms[i]/norms[i+1] - 1) > 0.0001: i = i+1\n",
    "print(i)"
   ]
  }
 ],
 "metadata": {
  "kernelspec": {
   "display_name": "Python 3 (ipykernel)",
   "language": "python",
   "name": "python3"
  },
  "language_info": {
   "codemirror_mode": {
    "name": "ipython",
    "version": 3
   },
   "file_extension": ".py",
   "mimetype": "text/x-python",
   "name": "python",
   "nbconvert_exporter": "python",
   "pygments_lexer": "ipython3",
   "version": "3.10.12"
  }
 },
 "nbformat": 4,
 "nbformat_minor": 5
}
