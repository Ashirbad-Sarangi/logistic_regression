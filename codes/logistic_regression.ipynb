{
 "cells": [
  {
   "cell_type": "code",
   "execution_count": 1,
   "id": "f00460c4-010b-4df4-a370-87ef2dcf586c",
   "metadata": {},
   "outputs": [],
   "source": [
    "import pandas as analytics\n",
    "import numpy as maths\n",
    "import matplotlib.pyplot as graph\n",
    "import os\n",
    "from math import exp , log, log10"
   ]
  },
  {
   "cell_type": "code",
   "execution_count": 2,
   "id": "5db666db",
   "metadata": {},
   "outputs": [],
   "source": [
    "os.chdir('../dependencies/')\n",
    "from logistic_regression import logistic_regression"
   ]
  },
  {
   "cell_type": "code",
   "execution_count": 3,
   "id": "1b9cae86-99ae-4c8d-b2eb-c94d18895cff",
   "metadata": {},
   "outputs": [],
   "source": [
    "filename = 'data2'\n",
    "validation_perc = 0.7\n",
    "training_perc = 0.8\n",
    "alphas = maths.arange(0.5,1,0.1)\n",
    "number_of_iterations = 10"
   ]
  },
  {
   "cell_type": "code",
   "execution_count": null,
   "id": "146d0d0f",
   "metadata": {},
   "outputs": [],
   "source": [
    "log_reg = logistic_regression()\n",
    "log_reg.load_data(filename)\n",
    "df_validation, df_test = log_reg.split_dataset(validation_perc , training_perc)\n",
    "log_reg.find_weights(df_validation , alphas, number_of_iterations, process=\"logistic\" )\n",
    "log_reg.classify(df_test)"
   ]
  },
  {
   "cell_type": "code",
   "execution_count": null,
   "id": "31d678e9-b15e-4889-b0c3-07154e841356",
   "metadata": {},
   "outputs": [],
   "source": [
    "maths.random.rand(3)"
   ]
  },
  {
   "cell_type": "code",
   "execution_count": null,
   "id": "18d774ab-fbee-418b-80a2-fd69c84de30a",
   "metadata": {},
   "outputs": [],
   "source": [
    "w = maths.random.rand(3)\n",
    "x = maths.random.rand(3)\n",
    "1/(1 + exp(-w.T@x))"
   ]
  },
  {
   "cell_type": "code",
   "execution_count": null,
   "id": "ccb97c57-b3a1-4d44-a457-438e090d533c",
   "metadata": {},
   "outputs": [],
   "source": [
    "exp(9.342892031827413e-29)"
   ]
  },
  {
   "cell_type": "code",
   "execution_count": null,
   "id": "419ea272-b0c2-4699-b288-85cda91118cd",
   "metadata": {},
   "outputs": [],
   "source": [
    "1/(1 + exp(1e-53))"
   ]
  }
 ],
 "metadata": {
  "kernelspec": {
   "display_name": "Python 3 (ipykernel)",
   "language": "python",
   "name": "python3"
  },
  "language_info": {
   "codemirror_mode": {
    "name": "ipython",
    "version": 3
   },
   "file_extension": ".py",
   "mimetype": "text/x-python",
   "name": "python",
   "nbconvert_exporter": "python",
   "pygments_lexer": "ipython3",
   "version": "3.10.12"
  }
 },
 "nbformat": 4,
 "nbformat_minor": 5
}
