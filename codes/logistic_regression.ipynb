{
 "cells": [
  {
   "cell_type": "code",
   "execution_count": 1,
   "id": "babc05fe-f1cf-4146-b0d4-0250e9d37210",
   "metadata": {},
   "outputs": [],
   "source": [
    "import pandas as analytics\n",
    "import numpy as maths\n",
    "import os\n",
    "from matplotlib import pyplot as graph\n",
    "import warnings\n",
    "from math import log\n",
    "from general_functions import *\n",
    "from logistic_regression import *\n",
    "warnings.filterwarnings(\"ignore\")"
   ]
  },
  {
   "cell_type": "code",
   "execution_count": 33,
   "id": "4154dd71-3cf1-4b22-82be-a223780cebe3",
   "metadata": {},
   "outputs": [],
   "source": [
    "def preprocess(df_raw):\n",
    "    \"\"\"This is data dependent function. As the data changes the preprocessing also changes. What matters is the output of preprocessed data. This should look like (x1,x2,x3, ... , xn, y)\n",
    "    Remember to encode the categorical attributes / features\n",
    "    Remeber to normalise the data before replacing the categorical data\n",
    "    \"\"\"\n",
    "    cols = ['x'+str(i+1) for i in range(len(df_raw.columns[:-1]))]+['y']\n",
    "    df_raw.columns=cols\n",
    "    X=normalize(df_raw[df_raw.columns[:-1]])\n",
    "    df_raw=analytics.concat([X,df_raw['y']],axis=1)\n",
    "    df_raw['x3'] = df_raw['x3'].replace({'nontypical':0,'asymptomatic':1,'nonanginal':2,'typical':3})\n",
    "    df_raw['x13'] = df_raw['x13'].replace({'normal':0,'fixed':1,'reversable':2})\n",
    "    df_raw['y']=df_raw['y'].replace({'No':0,'Yes':1})\n",
    "    df_raw = df_raw.dropna()\n",
    "    return df_raw"
   ]
  },
  {
   "cell_type": "code",
   "execution_count": 34,
   "id": "c1f166d7-f9ca-4e4a-8c91-22fb0965db85",
   "metadata": {},
   "outputs": [],
   "source": [
    "data_path = \"data/heart\"\n",
    "filename = \"Heart.csv\"\n",
    "filepath = os.path.join(data_path,filename)"
   ]
  },
  {
   "cell_type": "code",
   "execution_count": 46,
   "id": "b38a2413-4226-4beb-9b89-1babe0b94af1",
   "metadata": {},
   "outputs": [
    {
     "name": "stdout",
     "output_type": "stream",
     "text": [
      "\n",
      "\n",
      "\n",
      "Data seems as preprocessed and normalised !! Ready to train...\n",
      "\n",
      "\n",
      "Initial Weights: [[0.15306122 0.27142857 0.26326531 0.23469388 0.15306122 0.13265306\n",
      "  0.26734694 0.23469388 0.14081633 0.18979592 0.10408163 0.1122449\n",
      "  0.25918367]] \n",
      "\n",
      "Epoch # 001 :: Loss :0.116\n",
      "Epoch # 002 :: Loss :0.101\n",
      "Epoch # 003 :: Loss :0.095\n",
      "Epoch # 004 :: Loss :0.091\n",
      "Epoch # 005 :: Loss :0.087\n",
      "Epoch # 006 :: Loss :0.083\n",
      "Epoch # 007 :: Loss :0.080\n",
      "Epoch # 008 :: Loss :0.077\n",
      "Epoch # 009 :: Loss :0.075\n",
      "Epoch # 010 :: Loss :0.073\n",
      "Epoch # 011 :: Loss :0.071\n",
      "Epoch # 012 :: Loss :0.069\n",
      "Epoch # 013 :: Loss :0.067\n",
      "\n",
      "Final Weights: [[-0.66152282  1.45656353 -0.34935731  2.37602929  0.11257901 -0.95314387\n",
      "   0.73893915 -5.211516    1.06946157  1.8127382   0.32178399  3.9707594\n",
      "   1.0121312 ]]\n"
     ]
    }
   ],
   "source": [
    "df_raw = analytics.read_csv(filepath)\n",
    "df_raw = preprocess(df_raw)\n",
    "# get_summary(df_raw)\n",
    "\n",
    "hyperparameters={\n",
    "    \"alpha\":0.2,\n",
    "    \"weights_lb\":0.1,\n",
    "    \"weights_ub\":0.3,\n",
    "    \"tolerance\": 1e-2,\n",
    "    \"max_epoch\": 100\n",
    "}\n",
    "\n",
    "log_reg=logistic_regression(data=df_raw,hyperparameters=hyperparameters)\n",
    "print(\"\\n\")\n",
    "log_reg.train()\n",
    "df_train=log_reg.df_train\n",
    "df_test=log_reg.df_test\n",
    "weights=log_reg.weights\n"
   ]
  },
  {
   "cell_type": "code",
   "execution_count": 47,
   "id": "f441f01f-9924-4573-baa5-4e32c2c89aa6",
   "metadata": {},
   "outputs": [],
   "source": [
    "if weights.shape[0] == 2:\n",
    "    df_train = df_train[df_train.columns[:weights.shape[0]+1]]\n",
    "    decision_boundary = [0] * len(df_train) \n",
    "    if df_train.shape[1] == 3:\n",
    "        m = -weights[0]/weights[1]\n",
    "        for i in range(len(df_train)):\n",
    "            x = df_train.iloc[i][:2]\n",
    "            d = float(m*x[0])\n",
    "            decision_boundary.insert(i,d)\n",
    "    decision_boundary = decision_boundary[:len(df_train)]        \n",
    "    \n",
    "    \n",
    "    \n",
    "    pos_df=df_train[df_train['y']==1]\n",
    "    neg_df=df_train[df_train['y']==0]\n",
    "    \n",
    "    \n",
    "    graph.scatter(pos_df['x1'],pos_df['x2'],color='blue',label='positive')\n",
    "    graph.scatter(neg_df['x1'],neg_df['x2'],color='red',label='negative')\n",
    "    graph.legend()\n",
    "    graph.plot(df_train['x1'],decision_boundary)"
   ]
  },
  {
   "cell_type": "code",
   "execution_count": 48,
   "id": "c2a90a9d-4e06-4848-9e9e-2276981ba4cf",
   "metadata": {},
   "outputs": [
    {
     "name": "stdout",
     "output_type": "stream",
     "text": [
      "TRAIN METRICS\n",
      "=======\n",
      "Accuracy : 0.848\n",
      "Sensitivity :0.826\n",
      "Specificity :0.867\n",
      "Precision :0.448\n",
      "FMeasure :0.581\n"
     ]
    }
   ],
   "source": [
    "pos_class = 1\n",
    "neg_class = 0\n",
    "print(\"TRAIN\", end = \" \")\n",
    "check_performance(df_train,weights, pos_class, neg_class)"
   ]
  },
  {
   "cell_type": "code",
   "execution_count": 49,
   "id": "b4a55a4e-fb85-4dfb-89b4-96f1950ed62a",
   "metadata": {},
   "outputs": [
    {
     "name": "stdout",
     "output_type": "stream",
     "text": [
      "TEST METRICS\n",
      "=======\n",
      "Accuracy : 0.850\n",
      "Sensitivity :0.929\n",
      "Specificity :0.781\n",
      "Precision :0.510\n",
      "FMeasure :0.658\n"
     ]
    }
   ],
   "source": [
    "print(\"TEST\", end = \" \")\n",
    "check_performance(df_test,weights, pos_class, neg_class)"
   ]
  }
 ],
 "metadata": {
  "kernelspec": {
   "display_name": "Python 3 (ipykernel)",
   "language": "python",
   "name": "python3"
  },
  "language_info": {
   "codemirror_mode": {
    "name": "ipython",
    "version": 3
   },
   "file_extension": ".py",
   "mimetype": "text/x-python",
   "name": "python",
   "nbconvert_exporter": "python",
   "pygments_lexer": "ipython3",
   "version": "3.10.12"
  }
 },
 "nbformat": 4,
 "nbformat_minor": 5
}
