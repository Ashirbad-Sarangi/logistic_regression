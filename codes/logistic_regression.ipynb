{
 "cells": [
  {
   "cell_type": "code",
   "execution_count": 1,
   "id": "f00460c4-010b-4df4-a370-87ef2dcf586c",
   "metadata": {},
   "outputs": [],
   "source": [
    "import pandas as analytics\n",
    "import numpy as maths\n",
    "import matplotlib.pyplot as graph\n",
    "import os\n",
    "from math import exp , log, log10\n",
    "# import matplotlib\n",
    "# matplotlib.use('nbagg')\n",
    "# %matplotlib inline\n",
    "# %matplotlib widget"
   ]
  },
  {
   "cell_type": "code",
   "execution_count": 2,
   "id": "aa1bfd15",
   "metadata": {},
   "outputs": [],
   "source": [
    "from math import exp"
   ]
  },
  {
   "cell_type": "code",
   "execution_count": 3,
   "id": "5db666db",
   "metadata": {},
   "outputs": [],
   "source": [
    "os.chdir('../dependencies/')\n",
    "from logistic_regression import logistic_regression"
   ]
  },
  {
   "cell_type": "code",
   "execution_count": 4,
   "id": "c04e490e",
   "metadata": {},
   "outputs": [],
   "source": [
    "def loss(f_x,y):\n",
    "    if y == 1 : return y*log(abs(f_x))\n",
    "    else : return (1-y)*log(abs(1-f_x))\n",
    "    "
   ]
  },
  {
   "cell_type": "code",
   "execution_count": 5,
   "id": "c43355b2",
   "metadata": {},
   "outputs": [],
   "source": [
    "def plot_graph(name,var):\n",
    "    figure = graph.figure(figsize = (15,10))\n",
    "    graph.ylabel(name)\n",
    "    graph.xlabel(\"Iterations\")\n",
    "    graph.title(name)\n",
    "    graph.plot(var,label=name)\n",
    "    graph.legend()\n",
    "    graph.grid(True)\n",
    "    "
   ]
  },
  {
   "cell_type": "code",
   "execution_count": 6,
   "id": "070faf83",
   "metadata": {},
   "outputs": [],
   "source": [
    "def norm(vector):\n",
    "    vector = [v**2 for v in vector]\n",
    "    vector = float(sum(vector))\n",
    "    vector = vector ** 0.5\n",
    "    return vector\n",
    "\n",
    "# def sigmoid(x,w):\n",
    "#     f_x = 1/(1 + exp(-float(maths.matmul(w.T,x)))) \n",
    "#     return f_x\n",
    "\n",
    "def logit(f_x):\n",
    "    if f_x == 1: return 0\n",
    "    if f_x == 0: return 1\n",
    "    else : return log(abs(f_x)/abs(1-f_x))"
   ]
  },
  {
   "cell_type": "code",
   "execution_count": 7,
   "id": "3e1e396c",
   "metadata": {},
   "outputs": [],
   "source": [
    "def create_confusion_matrix(y,y_hat):\n",
    "    \"\"\" Creating the confusion matrix \"\"\"\n",
    "\n",
    "    tp = 0\n",
    "    fp = 0\n",
    "    tn = 0\n",
    "    fn = 0\n",
    "    for i in range(len(y)):\n",
    "        if y[i] == y_hat[i] == 1:\n",
    "            tp = tp + 1\n",
    "        elif y[i] == y_hat[i] == 0:\n",
    "            tn = tn + 1\n",
    "        elif y[i] == 1 and y_hat[i] == 0:\n",
    "            fn = fn + 1\n",
    "        else :\n",
    "            fp = fp + 1\n",
    "\n",
    "    confusion_matrix = {'tp':tp,'tn':tn,'fp':fp,'fn':fn}\n",
    "    print(\"Confusion Matrix : \",confusion_matrix)\n",
    "    accuracy = round((confusion_matrix['tp']+confusion_matrix['tn'])/(confusion_matrix['tp'] + confusion_matrix['tn'] + confusion_matrix['fp'] + confusion_matrix['fn'])*100,2)\n",
    "    precision = round((confusion_matrix['tp'])/(confusion_matrix['fp']+confusion_matrix['tp'])*100,2) \n",
    "    sensitivity = round((confusion_matrix['tp'])/(confusion_matrix['tp']+confusion_matrix['fn'])*100,2)\n",
    "    specificity = round((confusion_matrix['tn'])/(confusion_matrix['fp']+confusion_matrix['tn'])*100,2)\n",
    "\n",
    "    \n",
    "    print('Accuracy : ', accuracy)\n",
    "    print('Precision : ', precision)\n",
    "    print('Senstivity : ', sensitivity)\n",
    "    print('Specificity : ', specificity)\n",
    "    \n",
    "#     accuracy = find_accuracy()\n",
    "#     precision = find_precision()\n",
    "#     sensitivity = find_sensitivity()\n",
    "#     specificity = find_specificity()\n",
    "#     fscore = find_fscore()\n",
    "\n",
    "\n",
    "def find_precision(show = True):\n",
    "    \"\"\" Finding Precision \"\"\"\n",
    "\n",
    "    confusion_matrix = confusion_matrix\n",
    "    precision = round((confusion_matrix['tp'])/(confusion_matrix['fp']+confusion_matrix['tp'])*100,2) \n",
    "    if show : print(\"Precision : \",precision,\"%\")\n",
    "    return precision\n",
    "\n",
    "def find_accuracy(show = True):\n",
    "    \"\"\" Finding Accuracy \"\"\"\n",
    "\n",
    "    confusion_matrix = confusion_matrix\n",
    "    accuracy = round((confusion_matrix['tp']+confusion_matrix['tn'])/(confusion_matrix['tp'] + confusion_matrix['tn'] + confusion_matrix['fp'] + confusion_matrix['fn'])*100,2)\n",
    "    if show : print(\"Accuracy : \",accuracy,\"%\")\n",
    "    return accuracy\n",
    "\n",
    "def find_sensitivity(show = True):\n",
    "    \"\"\" Finding Sensivity \"\"\"\n",
    "\n",
    "    confusion_matrix = confusion_matrix\n",
    "    sensitivity = round((confusion_matrix['tp'])/(confusion_matrix['tp']+confusion_matrix['fn'])*100,2)\n",
    "    if show : print(\"Sensivity : \",sensitivity,\"%\")\n",
    "    return sensitivity\n",
    "\n",
    "def find_specificity(show = True):\n",
    "    \"\"\" Finding Specificity \"\"\"\n",
    "\n",
    "    confusion_matrix = confusion_matrix\n",
    "    specificity = round((confusion_matrix['tn'])/(confusion_matrix['fp']+confusion_matrix['tn'])*100,2)\n",
    "    if show : print(\"Specificity : \",specificity,\"%\")\n",
    "    return specificity\n",
    "\n",
    "def find_fscore(show=True):\n",
    "    \"\"\" Finding FScore \"\"\"\n",
    "\n",
    "    confusion_matrix = confusion_matrix\n",
    "    f_score = round(2/((1/find_precision(False))+(1/find_sensitivity(False))),2)\n",
    "    if show : print(\"F1 Score : \",f_score)\n",
    "    return f_score        \n"
   ]
  },
  {
   "cell_type": "code",
   "execution_count": 8,
   "id": "01ef47e2",
   "metadata": {},
   "outputs": [],
   "source": [
    "filename = 'data1'\n",
    "validation_perc = 0.7\n",
    "training_perc = 0.8\n",
    "alphas = maths.arange(0,1,0.1)\n",
    "number_of_iterations = 10\n",
    "training_perc = 0.7"
   ]
  },
  {
   "cell_type": "code",
   "execution_count": 9,
   "id": "146d0d0f",
   "metadata": {},
   "outputs": [],
   "source": [
    "log_reg = logistic_regression()\n",
    "log_reg.load_data(filename)\n",
    "df_validation, df_test = log_reg.split_dataset(validation_perc , training_perc)\n",
    "# log_reg.find_weights(alphas, number_of_iterations )\n",
    "# log_reg.classify(df_test)"
   ]
  },
  {
   "cell_type": "code",
   "execution_count": 10,
   "id": "7e84fd8f",
   "metadata": {},
   "outputs": [],
   "source": [
    "df_validation = df_validation.reset_index(drop=True)\n",
    "df_test = df_test.reset_index(drop=True)"
   ]
  },
  {
   "cell_type": "code",
   "execution_count": 11,
   "id": "af18f313",
   "metadata": {},
   "outputs": [
    {
     "data": {
      "text/html": [
       "<div>\n",
       "<style scoped>\n",
       "    .dataframe tbody tr th:only-of-type {\n",
       "        vertical-align: middle;\n",
       "    }\n",
       "\n",
       "    .dataframe tbody tr th {\n",
       "        vertical-align: top;\n",
       "    }\n",
       "\n",
       "    .dataframe thead th {\n",
       "        text-align: right;\n",
       "    }\n",
       "</style>\n",
       "<table border=\"1\" class=\"dataframe\">\n",
       "  <thead>\n",
       "    <tr style=\"text-align: right;\">\n",
       "      <th></th>\n",
       "      <th>x0</th>\n",
       "      <th>x1</th>\n",
       "      <th>x2</th>\n",
       "      <th>y</th>\n",
       "    </tr>\n",
       "  </thead>\n",
       "  <tbody>\n",
       "    <tr>\n",
       "      <th>0</th>\n",
       "      <td>1</td>\n",
       "      <td>-0.857143</td>\n",
       "      <td>-0.020408</td>\n",
       "      <td>1</td>\n",
       "    </tr>\n",
       "    <tr>\n",
       "      <th>1</th>\n",
       "      <td>1</td>\n",
       "      <td>-0.673469</td>\n",
       "      <td>-0.122449</td>\n",
       "      <td>1</td>\n",
       "    </tr>\n",
       "    <tr>\n",
       "      <th>2</th>\n",
       "      <td>1</td>\n",
       "      <td>-0.163265</td>\n",
       "      <td>-0.775510</td>\n",
       "      <td>0</td>\n",
       "    </tr>\n",
       "    <tr>\n",
       "      <th>3</th>\n",
       "      <td>1</td>\n",
       "      <td>-0.244898</td>\n",
       "      <td>-0.020408</td>\n",
       "      <td>1</td>\n",
       "    </tr>\n",
       "    <tr>\n",
       "      <th>4</th>\n",
       "      <td>1</td>\n",
       "      <td>-0.571429</td>\n",
       "      <td>-0.122449</td>\n",
       "      <td>1</td>\n",
       "    </tr>\n",
       "    <tr>\n",
       "      <th>...</th>\n",
       "      <td>...</td>\n",
       "      <td>...</td>\n",
       "      <td>...</td>\n",
       "      <td>...</td>\n",
       "    </tr>\n",
       "    <tr>\n",
       "      <th>135</th>\n",
       "      <td>1</td>\n",
       "      <td>-0.163265</td>\n",
       "      <td>-0.448980</td>\n",
       "      <td>0</td>\n",
       "    </tr>\n",
       "    <tr>\n",
       "      <th>136</th>\n",
       "      <td>1</td>\n",
       "      <td>-0.469388</td>\n",
       "      <td>-0.224490</td>\n",
       "      <td>1</td>\n",
       "    </tr>\n",
       "    <tr>\n",
       "      <th>137</th>\n",
       "      <td>1</td>\n",
       "      <td>0.000000</td>\n",
       "      <td>-0.612245</td>\n",
       "      <td>0</td>\n",
       "    </tr>\n",
       "    <tr>\n",
       "      <th>138</th>\n",
       "      <td>1</td>\n",
       "      <td>-0.979592</td>\n",
       "      <td>-0.897959</td>\n",
       "      <td>1</td>\n",
       "    </tr>\n",
       "    <tr>\n",
       "      <th>139</th>\n",
       "      <td>1</td>\n",
       "      <td>-0.755102</td>\n",
       "      <td>-0.224490</td>\n",
       "      <td>1</td>\n",
       "    </tr>\n",
       "  </tbody>\n",
       "</table>\n",
       "<p>140 rows × 4 columns</p>\n",
       "</div>"
      ],
      "text/plain": [
       "     x0        x1        x2  y\n",
       "0     1 -0.857143 -0.020408  1\n",
       "1     1 -0.673469 -0.122449  1\n",
       "2     1 -0.163265 -0.775510  0\n",
       "3     1 -0.244898 -0.020408  1\n",
       "4     1 -0.571429 -0.122449  1\n",
       "..   ..       ...       ... ..\n",
       "135   1 -0.163265 -0.448980  0\n",
       "136   1 -0.469388 -0.224490  1\n",
       "137   1  0.000000 -0.612245  0\n",
       "138   1 -0.979592 -0.897959  1\n",
       "139   1 -0.755102 -0.224490  1\n",
       "\n",
       "[140 rows x 4 columns]"
      ]
     },
     "execution_count": 11,
     "metadata": {},
     "output_type": "execute_result"
    }
   ],
   "source": [
    "for col in df_validation.columns[1:-1] :\n",
    "    maximum = max(df_validation[col])\n",
    "    minimum = min(df_validation[col])\n",
    "    diff = maximum - minimum\n",
    "    \n",
    "    df_validation[col] = (df_validation[col] - maximum) / diff\n",
    "    df_test[col] = (df_test[col] - maximum) / diff\n",
    "df_validation"
   ]
  },
  {
   "cell_type": "code",
   "execution_count": 12,
   "id": "3775716c",
   "metadata": {},
   "outputs": [],
   "source": [
    "def sigmoid(x,w):\n",
    "    return 1/(1 + exp(-float(w.T@x)))"
   ]
  },
  {
   "cell_type": "code",
   "execution_count": 13,
   "id": "4a077095",
   "metadata": {},
   "outputs": [],
   "source": [
    "def liklihood(x,y,w):\n",
    "    y_hat = sigmoid(x,w)\n",
    "    if y_hat == 1: return y*log(y_hat)\n",
    "    else : return y*log(abs(y_hat)) + (1-y)*log(abs(1-y_hat))"
   ]
  },
  {
   "cell_type": "code",
   "execution_count": 14,
   "id": "e086537b",
   "metadata": {},
   "outputs": [],
   "source": [
    "def norm(z):\n",
    "    z = list(z)\n",
    "    return float(sum([z**2 for z in z]))**0.5"
   ]
  },
  {
   "cell_type": "code",
   "execution_count": 15,
   "id": "8a83455d",
   "metadata": {},
   "outputs": [],
   "source": [
    "def logit(x,w):\n",
    "    f_x = sigmoid(x,w)\n",
    "    if f_x == 1 : return 1\n",
    "    elif f_x == 0 : return 0 \n",
    "    else : return log(abs(f_x/(1-f_x)))\n",
    "    "
   ]
  },
  {
   "cell_type": "code",
   "execution_count": null,
   "id": "fa18ffc1-2b40-41de-a5ed-9802e5d4d829",
   "metadata": {},
   "outputs": [],
   "source": [
    "df_validation = df_validation.sample(frac=1)\n",
    "X = df_validation.iloc[:,:-1].reset_index(drop=True)\n",
    "Y = df_validation.iloc[:,-1].reset_index(drop=True)\n",
    "\n",
    "w_star = maths.matrix(maths.random.rand(X.shape[1])).T\n",
    "\n",
    "w_old = w_star + [1]\n",
    "\n",
    "epsilon = 1e-3\n",
    "alpha = 0.1\n",
    "liklihoods = []\n",
    "sigmoids = []\n",
    "weights = []\n",
    "norms = []\n",
    "\n",
    "while norm(w_star - w_old) > epsilon :\n",
    "    \n",
    "    w_old = w_star\n",
    "    loss = []\n",
    "\n",
    "    for i in range(len(X)):\n",
    "        x = maths.matrix(X.iloc[i]).T\n",
    "        y = Y.iloc[i]\n",
    "        y_hat = sigmoid(x,w_star)\n",
    "        w_star = w_star + alpha * (y - y_hat) * x\n",
    "        loss.append(liklihood(x,y,w_star))\n",
    "    \n",
    "    weights.append(w_star.T)\n",
    "    sigmoids.append(y_hat)\n",
    "    norms.append(norm( w_star - w_old ))\n",
    "    liklihoods.append(sum(loss))\n",
    "\n",
    "print(w_star)"
   ]
  },
  {
   "cell_type": "code",
   "execution_count": null,
   "id": "4b22d6f0",
   "metadata": {},
   "outputs": [],
   "source": [
    "graph.hist(norms)"
   ]
  },
  {
   "cell_type": "code",
   "execution_count": null,
   "id": "0755107c",
   "metadata": {},
   "outputs": [],
   "source": [
    "x = [float(weight.T[0]) for weight in weights]\n",
    "y = [float(weight.T[1]) for weight in weights]\n",
    "z = [float(weight.T[2]) for weight in weights]\n",
    "\n",
    "figure = graph.figure(figsize=(18,10))\n",
    "\n",
    "graph.subplot(1,3,1)\n",
    "graph.plot(x)\n",
    "graph.title('X')\n",
    "\n",
    "graph.subplot(1,3,2)\n",
    "graph.plot(y)\n",
    "graph.title('Y')\n",
    "\n",
    "graph.subplot(1,3,3)\n",
    "graph.plot(z)\n",
    "graph.title('Z')\n",
    "\n",
    "graph.show()"
   ]
  },
  {
   "cell_type": "code",
   "execution_count": null,
   "id": "f91c21be",
   "metadata": {},
   "outputs": [],
   "source": [
    "liklihoods[-1] == max(liklihoods)"
   ]
  },
  {
   "cell_type": "code",
   "execution_count": null,
   "id": "650a4746",
   "metadata": {},
   "outputs": [],
   "source": [
    "figure = graph.figure(figsize=(15,15))\n",
    "graph.hist(liklihoods,label = 'Frequency of Liklihood')\n",
    "graph.legend()\n",
    "graph.title(\"Liklihood Frequency\")\n",
    "graph.grid()\n",
    "graph.xlabel(\"Liklihood Values\")\n",
    "graph.ylabel(\"Frequency\")\n",
    "graph.show()"
   ]
  },
  {
   "cell_type": "code",
   "execution_count": null,
   "id": "f98a32ba",
   "metadata": {},
   "outputs": [],
   "source": [
    "figure = graph.figure(figsize=(15,15))\n",
    "graph.scatter(sigmoids,liklihoods,c = 'blue',label = 'Liklihood',alpha = 0.1)\n",
    "graph.legend()\n",
    "graph.title(\"Liklihood vs Sigmoid\")\n",
    "graph.grid()\n",
    "graph.xlabel(\"Sigmoid\")\n",
    "graph.ylabel(\"Liklihood\")\n",
    "graph.show()"
   ]
  },
  {
   "cell_type": "code",
   "execution_count": null,
   "id": "2c20ea0e",
   "metadata": {},
   "outputs": [],
   "source": [
    "graph.plot(liklihoods)"
   ]
  },
  {
   "cell_type": "code",
   "execution_count": null,
   "id": "1a82e18f",
   "metadata": {},
   "outputs": [],
   "source": [
    "graph.plot(norms)"
   ]
  },
  {
   "cell_type": "code",
   "execution_count": null,
   "id": "8a3e227d",
   "metadata": {},
   "outputs": [],
   "source": [
    "threshold = 0.5"
   ]
  },
  {
   "cell_type": "code",
   "execution_count": null,
   "id": "feeed734",
   "metadata": {},
   "outputs": [],
   "source": [
    "X = df_test.iloc[:,:-1]\n",
    "Y = df_test.iloc[:,-1]\n",
    "y_hat = []\n",
    "dbs = []\n",
    "\n",
    "for i in range(len(df_test)):\n",
    "    x = X.iloc[i]\n",
    "    y = Y.iloc[i]\n",
    "    y_hat.append(logit(x,w_star))\n",
    "    dbs.append(w_star.T@x)\n",
    "\n",
    "y_hat = [1 if y > threshold else 0 for y in y_hat]\n",
    "df_test['y_hat'] = y_hat"
   ]
  },
  {
   "cell_type": "code",
   "execution_count": null,
   "id": "d81b2eb4",
   "metadata": {},
   "outputs": [],
   "source": [
    "figure = graph.figure(figsize=(15,15))\n",
    "graph.scatter([i for i in range(len(df_test['y']))],df_test['y'],alpha = 0.8,color = 'yellow')\n",
    "graph.scatter([i for i in range(len(df_test['y_hat']))],df_test['y_hat'], alpha = 0.5, edgecolor = 'red',color = 'yellow')\n",
    "graph.grid(True)\n",
    "# graph.plot(dbs)"
   ]
  },
  {
   "cell_type": "code",
   "execution_count": null,
   "id": "36eecc25",
   "metadata": {},
   "outputs": [],
   "source": [
    "w_star"
   ]
  },
  {
   "cell_type": "code",
   "execution_count": null,
   "id": "0748fdf6",
   "metadata": {},
   "outputs": [],
   "source": [
    "create_confusion_matrix(df_test['y'],df_test['y_hat'])"
   ]
  },
  {
   "cell_type": "code",
   "execution_count": null,
   "id": "5e7ee757-5812-46f3-b25f-234d19ba2d78",
   "metadata": {},
   "outputs": [],
   "source": [
    "norms_copy = norms.copy()"
   ]
  },
  {
   "cell_type": "code",
   "execution_count": null,
   "id": "340069b1-c76e-455e-877f-e742976945ec",
   "metadata": {},
   "outputs": [],
   "source": [
    "figure = graph.figure(figsize=(20,15))\n",
    "graph.plot(norms,label = 'Norms')\n",
    "# graph.scatter(norms.index(maths.median(norms)),maths.median(norms),color = 'red', marker = 'x' , label = 'Median')\n",
    "# graph.scatter(norms.index(maths.mean(norms)),maths.mean(norms),color = 'red', marker = 'x' , label = 'Mean')\n",
    "graph.grid(True)\n",
    "graph.legend()\n",
    "graph.xlim(500)\n",
    "graph.ylim(0,0.025)\n",
    "graph.show()\n",
    "graph.ion()"
   ]
  },
  {
   "cell_type": "code",
   "execution_count": null,
   "id": "ff860f9d-9524-4b52-86dd-8153823230cd",
   "metadata": {},
   "outputs": [],
   "source": [
    "min(norms)"
   ]
  }
 ],
 "metadata": {
  "kernelspec": {
   "display_name": "Python 3 (ipykernel)",
   "language": "python",
   "name": "python3"
  },
  "language_info": {
   "codemirror_mode": {
    "name": "ipython",
    "version": 3
   },
   "file_extension": ".py",
   "mimetype": "text/x-python",
   "name": "python",
   "nbconvert_exporter": "python",
   "pygments_lexer": "ipython3",
   "version": "3.10.12"
  }
 },
 "nbformat": 4,
 "nbformat_minor": 5
}
