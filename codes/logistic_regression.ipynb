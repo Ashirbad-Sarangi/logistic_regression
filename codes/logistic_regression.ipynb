{
 "cells": [
  {
   "cell_type": "code",
   "execution_count": 1,
   "id": "70046f73",
   "metadata": {},
   "outputs": [],
   "source": [
    "import pandas as analytics\n",
    "import numpy as maths\n",
    "import matplotlib.pyplot as graph\n",
    "import os\n",
    "from math import exp"
   ]
  },
  {
   "cell_type": "code",
   "execution_count": 2,
   "id": "aa1bfd15",
   "metadata": {},
   "outputs": [],
   "source": [
    "from math import exp"
   ]
  },
  {
   "cell_type": "code",
   "execution_count": 3,
   "id": "5db666db",
   "metadata": {},
   "outputs": [],
   "source": [
    "os.chdir('../dependencies/')\n",
    "from logistic_regression import logistic_regression"
   ]
  },
  {
   "cell_type": "code",
   "execution_count": 4,
   "id": "c04e490e",
   "metadata": {},
   "outputs": [],
   "source": [
    "def loss(f_x,y):\n",
    "    return -(y*f_x + (1-y)*(1-f_x))\n",
    "    "
   ]
  },
  {
   "cell_type": "code",
   "execution_count": 5,
   "id": "01ef47e2",
   "metadata": {
    "scrolled": false
   },
   "outputs": [],
   "source": [
    "filename = 'data1'\n",
    "validation_perc = 0.7\n",
    "training_perc = 0.7\n",
    "alphas = maths.arange(0,1,0.1)\n",
    "number_of_iterations = 10\n",
    "training_perc = 0.7"
   ]
  },
  {
   "cell_type": "code",
   "execution_count": 6,
   "id": "146d0d0f",
   "metadata": {
    "scrolled": false
   },
   "outputs": [],
   "source": [
    "log_reg = logistic_regression()\n",
    "log_reg.load_data(filename)\n",
    "df_validation, df_test = log_reg.split_dataset(validation_perc , training_perc)\n",
    "# log_reg.find_weights(alphas, number_of_iterations )\n",
    "# log_reg.classify(df_test)"
   ]
  },
  {
   "cell_type": "code",
   "execution_count": 7,
   "id": "fd3a11b2",
   "metadata": {},
   "outputs": [
    {
     "data": {
      "text/html": [
       "<div>\n",
       "<style scoped>\n",
       "    .dataframe tbody tr th:only-of-type {\n",
       "        vertical-align: middle;\n",
       "    }\n",
       "\n",
       "    .dataframe tbody tr th {\n",
       "        vertical-align: top;\n",
       "    }\n",
       "\n",
       "    .dataframe thead th {\n",
       "        text-align: right;\n",
       "    }\n",
       "</style>\n",
       "<table border=\"1\" class=\"dataframe\">\n",
       "  <thead>\n",
       "    <tr style=\"text-align: right;\">\n",
       "      <th></th>\n",
       "      <th>x0</th>\n",
       "      <th>x1</th>\n",
       "      <th>x2</th>\n",
       "      <th>y</th>\n",
       "    </tr>\n",
       "  </thead>\n",
       "  <tbody>\n",
       "    <tr>\n",
       "      <th>90</th>\n",
       "      <td>1</td>\n",
       "      <td>14</td>\n",
       "      <td>25</td>\n",
       "      <td>1</td>\n",
       "    </tr>\n",
       "    <tr>\n",
       "      <th>63</th>\n",
       "      <td>1</td>\n",
       "      <td>15</td>\n",
       "      <td>41</td>\n",
       "      <td>1</td>\n",
       "    </tr>\n",
       "    <tr>\n",
       "      <th>174</th>\n",
       "      <td>1</td>\n",
       "      <td>49</td>\n",
       "      <td>32</td>\n",
       "      <td>0</td>\n",
       "    </tr>\n",
       "    <tr>\n",
       "      <th>146</th>\n",
       "      <td>1</td>\n",
       "      <td>44</td>\n",
       "      <td>5</td>\n",
       "      <td>0</td>\n",
       "    </tr>\n",
       "    <tr>\n",
       "      <th>154</th>\n",
       "      <td>1</td>\n",
       "      <td>39</td>\n",
       "      <td>27</td>\n",
       "      <td>0</td>\n",
       "    </tr>\n",
       "    <tr>\n",
       "      <th>...</th>\n",
       "      <td>...</td>\n",
       "      <td>...</td>\n",
       "      <td>...</td>\n",
       "      <td>...</td>\n",
       "    </tr>\n",
       "    <tr>\n",
       "      <th>71</th>\n",
       "      <td>1</td>\n",
       "      <td>16</td>\n",
       "      <td>33</td>\n",
       "      <td>1</td>\n",
       "    </tr>\n",
       "    <tr>\n",
       "      <th>83</th>\n",
       "      <td>1</td>\n",
       "      <td>33</td>\n",
       "      <td>48</td>\n",
       "      <td>1</td>\n",
       "    </tr>\n",
       "    <tr>\n",
       "      <th>32</th>\n",
       "      <td>1</td>\n",
       "      <td>10</td>\n",
       "      <td>26</td>\n",
       "      <td>1</td>\n",
       "    </tr>\n",
       "    <tr>\n",
       "      <th>42</th>\n",
       "      <td>1</td>\n",
       "      <td>1</td>\n",
       "      <td>11</td>\n",
       "      <td>1</td>\n",
       "    </tr>\n",
       "    <tr>\n",
       "      <th>121</th>\n",
       "      <td>1</td>\n",
       "      <td>40</td>\n",
       "      <td>43</td>\n",
       "      <td>0</td>\n",
       "    </tr>\n",
       "  </tbody>\n",
       "</table>\n",
       "<p>140 rows × 4 columns</p>\n",
       "</div>"
      ],
      "text/plain": [
       "     x0  x1  x2  y\n",
       "90    1  14  25  1\n",
       "63    1  15  41  1\n",
       "174   1  49  32  0\n",
       "146   1  44   5  0\n",
       "154   1  39  27  0\n",
       "..   ..  ..  .. ..\n",
       "71    1  16  33  1\n",
       "83    1  33  48  1\n",
       "32    1  10  26  1\n",
       "42    1   1  11  1\n",
       "121   1  40  43  0\n",
       "\n",
       "[140 rows x 4 columns]"
      ]
     },
     "execution_count": 7,
     "metadata": {},
     "output_type": "execute_result"
    }
   ],
   "source": [
    "df_validation"
   ]
  },
  {
   "cell_type": "code",
   "execution_count": 8,
   "id": "af18f313",
   "metadata": {},
   "outputs": [
    {
     "data": {
      "text/html": [
       "<div>\n",
       "<style scoped>\n",
       "    .dataframe tbody tr th:only-of-type {\n",
       "        vertical-align: middle;\n",
       "    }\n",
       "\n",
       "    .dataframe tbody tr th {\n",
       "        vertical-align: top;\n",
       "    }\n",
       "\n",
       "    .dataframe thead th {\n",
       "        text-align: right;\n",
       "    }\n",
       "</style>\n",
       "<table border=\"1\" class=\"dataframe\">\n",
       "  <thead>\n",
       "    <tr style=\"text-align: right;\">\n",
       "      <th></th>\n",
       "      <th>x0</th>\n",
       "      <th>x1</th>\n",
       "      <th>x2</th>\n",
       "      <th>y</th>\n",
       "    </tr>\n",
       "  </thead>\n",
       "  <tbody>\n",
       "    <tr>\n",
       "      <th>90</th>\n",
       "      <td>1</td>\n",
       "      <td>-0.734694</td>\n",
       "      <td>-0.510204</td>\n",
       "      <td>1</td>\n",
       "    </tr>\n",
       "    <tr>\n",
       "      <th>63</th>\n",
       "      <td>1</td>\n",
       "      <td>-0.714286</td>\n",
       "      <td>-0.183673</td>\n",
       "      <td>1</td>\n",
       "    </tr>\n",
       "    <tr>\n",
       "      <th>174</th>\n",
       "      <td>1</td>\n",
       "      <td>-0.020408</td>\n",
       "      <td>-0.367347</td>\n",
       "      <td>0</td>\n",
       "    </tr>\n",
       "    <tr>\n",
       "      <th>146</th>\n",
       "      <td>1</td>\n",
       "      <td>-0.122449</td>\n",
       "      <td>-0.918367</td>\n",
       "      <td>0</td>\n",
       "    </tr>\n",
       "    <tr>\n",
       "      <th>154</th>\n",
       "      <td>1</td>\n",
       "      <td>-0.224490</td>\n",
       "      <td>-0.469388</td>\n",
       "      <td>0</td>\n",
       "    </tr>\n",
       "    <tr>\n",
       "      <th>...</th>\n",
       "      <td>...</td>\n",
       "      <td>...</td>\n",
       "      <td>...</td>\n",
       "      <td>...</td>\n",
       "    </tr>\n",
       "    <tr>\n",
       "      <th>71</th>\n",
       "      <td>1</td>\n",
       "      <td>-0.693878</td>\n",
       "      <td>-0.346939</td>\n",
       "      <td>1</td>\n",
       "    </tr>\n",
       "    <tr>\n",
       "      <th>83</th>\n",
       "      <td>1</td>\n",
       "      <td>-0.346939</td>\n",
       "      <td>-0.040816</td>\n",
       "      <td>1</td>\n",
       "    </tr>\n",
       "    <tr>\n",
       "      <th>32</th>\n",
       "      <td>1</td>\n",
       "      <td>-0.816327</td>\n",
       "      <td>-0.489796</td>\n",
       "      <td>1</td>\n",
       "    </tr>\n",
       "    <tr>\n",
       "      <th>42</th>\n",
       "      <td>1</td>\n",
       "      <td>-1.000000</td>\n",
       "      <td>-0.795918</td>\n",
       "      <td>1</td>\n",
       "    </tr>\n",
       "    <tr>\n",
       "      <th>121</th>\n",
       "      <td>1</td>\n",
       "      <td>-0.204082</td>\n",
       "      <td>-0.142857</td>\n",
       "      <td>0</td>\n",
       "    </tr>\n",
       "  </tbody>\n",
       "</table>\n",
       "<p>140 rows × 4 columns</p>\n",
       "</div>"
      ],
      "text/plain": [
       "     x0        x1        x2  y\n",
       "90    1 -0.734694 -0.510204  1\n",
       "63    1 -0.714286 -0.183673  1\n",
       "174   1 -0.020408 -0.367347  0\n",
       "146   1 -0.122449 -0.918367  0\n",
       "154   1 -0.224490 -0.469388  0\n",
       "..   ..       ...       ... ..\n",
       "71    1 -0.693878 -0.346939  1\n",
       "83    1 -0.346939 -0.040816  1\n",
       "32    1 -0.816327 -0.489796  1\n",
       "42    1 -1.000000 -0.795918  1\n",
       "121   1 -0.204082 -0.142857  0\n",
       "\n",
       "[140 rows x 4 columns]"
      ]
     },
     "execution_count": 8,
     "metadata": {},
     "output_type": "execute_result"
    }
   ],
   "source": [
    "df_validation['x1'] = (df_validation['x1'] - max(df_validation['x1'])) / (max(df_validation['x1']) - min(df_validation['x1'])) \n",
    "df_validation['x2'] = (df_validation['x2'] - max(df_validation['x2'])) / (max(df_validation['x2']) - min(df_validation['x2'])) \n",
    "df_validation"
   ]
  },
  {
   "cell_type": "code",
   "execution_count": 9,
   "id": "ebd38c4f",
   "metadata": {},
   "outputs": [],
   "source": [
    "def norm(vector):\n",
    "    vector = [v**2 for v in vector]\n",
    "    vector = float(sum(vector))\n",
    "    vector = vector ** 0.5\n",
    "    return vector\n",
    "\n",
    "def sigmoid(x,w):\n",
    "#     print(w.shape,x.shape)\n",
    "    f_x = 1/(1 + exp(-float(maths.matmul(w.T,x)))) \n",
    "    \n",
    "    return f_x"
   ]
  },
  {
   "cell_type": "code",
   "execution_count": 10,
   "id": "7ad50251",
   "metadata": {},
   "outputs": [
    {
     "ename": "KeyboardInterrupt",
     "evalue": "",
     "output_type": "error",
     "traceback": [
      "\u001b[0;31m---------------------------------------------------------------------------\u001b[0m",
      "\u001b[0;31mKeyboardInterrupt\u001b[0m                         Traceback (most recent call last)",
      "\u001b[0;32m/tmp/ipykernel_4389/3837297692.py\u001b[0m in \u001b[0;36m<module>\u001b[0;34m\u001b[0m\n\u001b[1;32m     25\u001b[0m \u001b[0;34m\u001b[0m\u001b[0m\n\u001b[1;32m     26\u001b[0m     \u001b[0mnorms\u001b[0m\u001b[0;34m.\u001b[0m\u001b[0mappend\u001b[0m\u001b[0;34m(\u001b[0m\u001b[0mnorm\u001b[0m\u001b[0;34m(\u001b[0m \u001b[0mw_star\u001b[0m \u001b[0;34m-\u001b[0m \u001b[0mw_old\u001b[0m \u001b[0;34m)\u001b[0m\u001b[0;34m)\u001b[0m\u001b[0;34m\u001b[0m\u001b[0;34m\u001b[0m\u001b[0m\n\u001b[0;32m---> 27\u001b[0;31m     \u001b[0mcost\u001b[0m\u001b[0;34m.\u001b[0m\u001b[0mappend\u001b[0m\u001b[0;34m(\u001b[0m\u001b[0msum\u001b[0m\u001b[0;34m(\u001b[0m\u001b[0mlosses\u001b[0m\u001b[0;34m)\u001b[0m\u001b[0;34m)\u001b[0m\u001b[0;34m\u001b[0m\u001b[0;34m\u001b[0m\u001b[0m\n\u001b[0m\u001b[1;32m     28\u001b[0m \u001b[0;34m\u001b[0m\u001b[0m\n\u001b[1;32m     29\u001b[0m \u001b[0;34m\u001b[0m\u001b[0m\n",
      "\u001b[0;31mKeyboardInterrupt\u001b[0m: "
     ]
    }
   ],
   "source": [
    "X = df_validation.iloc[:,:-1]\n",
    "Y = df_validation.iloc[:,-1]\n",
    "\n",
    "w_star = maths.matrix(maths.random.rand(X.shape[1])).T\n",
    "\n",
    "w_old = w_star + [1]\n",
    "\n",
    "iteration_number = 1\n",
    "\n",
    "epsilon = 1e-3\n",
    "alpha = 0.1\n",
    "norms = [1]\n",
    "losses = []\n",
    "cost = []\n",
    "\n",
    "while norms[-1] > epsilon :\n",
    "    w_old = w_star\n",
    "    iteration_number = iteration_number + 1\n",
    "    for i in range(len(X)):\n",
    "        x = maths.matrix(X.iloc[i]).T\n",
    "        y = Y.iloc[i]\n",
    "        f_x = sigmoid(x,w_star)\n",
    "        w_star = w_star + alpha * (y - f_x) * x\n",
    "        losses.append(loss(f_x,y))\n",
    "        \n",
    "    norms.append(norm( w_star - w_old ))\n",
    "    cost.append(sum(losses))\n",
    "    \n",
    "        \n",
    "    \n",
    "figure = graph.figure(figsize = (15,10))\n",
    "graph.ylabel(\"Norms\")\n",
    "graph.xlabel(\"Iterations\")\n",
    "# graph.plot(norms)\n",
    "graph.plot(cost)\n",
    "graph.grid(True)\n",
    "print(w_star)\n",
    "print(len(norms))"
   ]
  },
  {
   "cell_type": "code",
   "execution_count": null,
   "id": "2bf382bc",
   "metadata": {},
   "outputs": [],
   "source": [
    "norms[2] > epsilon"
   ]
  },
  {
   "cell_type": "code",
   "execution_count": 11,
   "id": "78e4e0be",
   "metadata": {},
   "outputs": [
    {
     "data": {
      "image/png": "[encoded data removed]",
      "text/plain": [
       "<Figure size 1080x720 with 1 Axes>"
      ]
     },
     "metadata": {
      "needs_background": "light"
     },
     "output_type": "display_data"
    }
   ],
   "source": [
    "figure = graph.figure(figsize = (15,10))\n",
    "graph.ylabel(\"Costs\")\n",
    "graph.xlabel(\"Iterations\")\n",
    "# graph.plot(norms)\n",
    "graph.plot(cost)\n",
    "graph.grid(True)"
   ]
  },
  {
   "cell_type": "code",
   "execution_count": 12,
   "id": "39715f67",
   "metadata": {},
   "outputs": [
    {
     "name": "stdout",
     "output_type": "stream",
     "text": [
      "[[-10.1947943 ]\n",
      " [-79.39893761]\n",
      " [ 68.21744829]]\n"
     ]
    },
    {
     "data": {
      "image/png": "[encoded data removed]",
      "text/plain": [
       "<Figure size 1080x720 with 1 Axes>"
      ]
     },
     "metadata": {
      "needs_background": "light"
     },
     "output_type": "display_data"
    }
   ],
   "source": [
    "figure = graph.figure(figsize = (15,10))\n",
    "graph.ylabel(\"Norms\")\n",
    "graph.xlabel(\"Iterations\")\n",
    "graph.plot(norms)\n",
    "graph.grid(True)\n",
    "print(w_star)"
   ]
  },
  {
   "cell_type": "code",
   "execution_count": 13,
   "id": "73ee6e41",
   "metadata": {},
   "outputs": [
    {
     "name": "stdout",
     "output_type": "stream",
     "text": [
      "[[-10.1947943 ]\n",
      " [-79.39893761]\n",
      " [ 68.21744829]]\n"
     ]
    },
    {
     "data": {
      "image/png": "[encoded data removed]",
      "text/plain": [
       "<Figure size 1080x720 with 1 Axes>"
      ]
     },
     "metadata": {
      "needs_background": "light"
     },
     "output_type": "display_data"
    }
   ],
   "source": [
    "figure = graph.figure(figsize = (15,10))\n",
    "graph.ylabel(\"Losses\")\n",
    "graph.xlabel(\"Iterations\")\n",
    "graph.plot(losses)\n",
    "graph.grid(True)\n",
    "print(w_star)"
   ]
  }
 ],
 "metadata": {
  "kernelspec": {
   "display_name": "Python 3 (ipykernel)",
   "language": "python",
   "name": "python3"
  },
  "language_info": {
   "codemirror_mode": {
    "name": "ipython",
    "version": 3
   },
   "file_extension": ".py",
   "mimetype": "text/x-python",
   "name": "python",
   "nbconvert_exporter": "python",
   "pygments_lexer": "ipython3",
   "version": "3.10.12"
  }
 },
 "nbformat": 4,
 "nbformat_minor": 5
}
