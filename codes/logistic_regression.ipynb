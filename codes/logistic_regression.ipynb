{
 "cells": [
  {
   "cell_type": "code",
   "execution_count": 2,
   "id": "f00460c4-010b-4df4-a370-87ef2dcf586c",
   "metadata": {},
   "outputs": [],
   "source": [
    "import pandas as analytics\n",
    "import numpy as maths\n",
    "import matplotlib.pyplot as graph\n",
    "import os\n",
    "from math import exp , log, log10"
   ]
  },
  {
   "cell_type": "code",
   "execution_count": 3,
   "id": "5db666db",
   "metadata": {},
   "outputs": [],
   "source": [
    "os.chdir('../dependencies/')\n",
    "from logistic_regression import logistic_regression"
   ]
  },
  {
   "cell_type": "code",
   "execution_count": 4,
   "id": "c04e490e",
   "metadata": {},
   "outputs": [],
   "source": [
    "# def loss(f_x,y):\n",
    "#     if y == 1 : return y*log(abs(f_x))\n",
    "#     else : return (1-y)*log(abs(1-f_x))\n",
    "    "
   ]
  },
  {
   "cell_type": "code",
   "execution_count": 5,
   "id": "c43355b2",
   "metadata": {},
   "outputs": [],
   "source": [
    "# def plot_graph(name,var):\n",
    "#     figure = graph.figure(figsize = (15,10))\n",
    "#     graph.ylabel(name)\n",
    "#     graph.xlabel(\"Iterations\")\n",
    "#     graph.title(name)\n",
    "#     graph.plot(var,label=name)\n",
    "#     graph.legend()\n",
    "#     graph.grid(True)\n",
    "    "
   ]
  },
  {
   "cell_type": "code",
   "execution_count": 6,
   "id": "070faf83",
   "metadata": {},
   "outputs": [],
   "source": [
    "# def norm(vector):\n",
    "#     vector = [v**2 for v in vector]\n",
    "#     vector = float(sum(vector))\n",
    "#     vector = vector ** 0.5\n",
    "#     return vector\n",
    "\n",
    "# # def sigmoid(x,w):\n",
    "# #     f_x = 1/(1 + exp(-float(maths.matmul(w.T,x)))) \n",
    "# #     return f_x\n",
    "\n",
    "# def logit(f_x):\n",
    "#     if f_x == 1: return 0\n",
    "#     if f_x == 0: return 1\n",
    "#     else : return log(abs(f_x)/abs(1-f_x))"
   ]
  },
  {
   "cell_type": "code",
   "execution_count": 7,
   "id": "3e1e396c",
   "metadata": {},
   "outputs": [],
   "source": [
    "# def create_confusion_matrix(y,y_hat):\n",
    "#     \"\"\" Creating the confusion matrix \"\"\"\n",
    "\n",
    "#     tp = 0\n",
    "#     fp = 0\n",
    "#     tn = 0\n",
    "#     fn = 0\n",
    "#     for i in range(len(y)):\n",
    "#         if y[i] == y_hat[i] == 1:\n",
    "#             tp = tp + 1\n",
    "#         elif y[i] == y_hat[i] == 0:\n",
    "#             tn = tn + 1\n",
    "#         elif y[i] == 1 and y_hat[i] == 0:\n",
    "#             fn = fn + 1\n",
    "#         else :\n",
    "#             fp = fp + 1\n",
    "\n",
    "#     confusion_matrix = {'tp':tp,'tn':tn,'fp':fp,'fn':fn}\n",
    "#     print(\"Confusion Matrix : \",confusion_matrix)\n",
    "#     accuracy = round((confusion_matrix['tp']+confusion_matrix['tn'])/(confusion_matrix['tp'] + confusion_matrix['tn'] + confusion_matrix['fp'] + confusion_matrix['fn'])*100,2)\n",
    "#     precision = round((confusion_matrix['tp'])/(confusion_matrix['fp']+confusion_matrix['tp'])*100,2) \n",
    "#     sensitivity = round((confusion_matrix['tp'])/(confusion_matrix['tp']+confusion_matrix['fn'])*100,2)\n",
    "#     specificity = round((confusion_matrix['tn'])/(confusion_matrix['fp']+confusion_matrix['tn'])*100,2)\n",
    "\n",
    "    \n",
    "#     print('Accuracy : ', accuracy)\n",
    "#     print('Precision : ', precision)\n",
    "#     print('Senstivity : ', sensitivity)\n",
    "#     print('Specificity : ', specificity)\n",
    "    \n",
    "# #     accuracy = find_accuracy()\n",
    "# #     precision = find_precision()\n",
    "# #     sensitivity = find_sensitivity()\n",
    "# #     specificity = find_specificity()\n",
    "# #     fscore = find_fscore()\n",
    "\n",
    "\n",
    "# def find_precision(show = True):\n",
    "#     \"\"\" Finding Precision \"\"\"\n",
    "\n",
    "#     confusion_matrix = confusion_matrix\n",
    "#     precision = round((confusion_matrix['tp'])/(confusion_matrix['fp']+confusion_matrix['tp'])*100,2) \n",
    "#     if show : print(\"Precision : \",precision,\"%\")\n",
    "#     return precision\n",
    "\n",
    "# def find_accuracy(show = True):\n",
    "#     \"\"\" Finding Accuracy \"\"\"\n",
    "\n",
    "#     confusion_matrix = confusion_matrix\n",
    "#     accuracy = round((confusion_matrix['tp']+confusion_matrix['tn'])/(confusion_matrix['tp'] + confusion_matrix['tn'] + confusion_matrix['fp'] + confusion_matrix['fn'])*100,2)\n",
    "#     if show : print(\"Accuracy : \",accuracy,\"%\")\n",
    "#     return accuracy\n",
    "\n",
    "# def find_sensitivity(show = True):\n",
    "#     \"\"\" Finding Sensivity \"\"\"\n",
    "\n",
    "#     confusion_matrix = confusion_matrix\n",
    "#     sensitivity = round((confusion_matrix['tp'])/(confusion_matrix['tp']+confusion_matrix['fn'])*100,2)\n",
    "#     if show : print(\"Sensivity : \",sensitivity,\"%\")\n",
    "#     return sensitivity\n",
    "\n",
    "# def find_specificity(show = True):\n",
    "#     \"\"\" Finding Specificity \"\"\"\n",
    "\n",
    "#     confusion_matrix = confusion_matrix\n",
    "#     specificity = round((confusion_matrix['tn'])/(confusion_matrix['fp']+confusion_matrix['tn'])*100,2)\n",
    "#     if show : print(\"Specificity : \",specificity,\"%\")\n",
    "#     return specificity\n",
    "\n",
    "# def find_fscore(show=True):\n",
    "#     \"\"\" Finding FScore \"\"\"\n",
    "\n",
    "#     confusion_matrix = confusion_matrix\n",
    "#     f_score = round(2/((1/find_precision(False))+(1/find_sensitivity(False))),2)\n",
    "#     if show : print(\"F1 Score : \",f_score)\n",
    "#     return f_score        \n"
   ]
  },
  {
   "cell_type": "code",
   "execution_count": 8,
   "id": "1b9cae86-99ae-4c8d-b2eb-c94d18895cff",
   "metadata": {},
   "outputs": [],
   "source": [
    "filename = 'data3'\n",
    "validation_perc = 0.7\n",
    "training_perc = 0.8\n",
    "alphas = maths.arange(0.1,1,0.1)\n",
    "number_of_iterations = 3\n",
    "# training_perc = 0.7"
   ]
  },
  {
   "cell_type": "code",
   "execution_count": null,
   "id": "146d0d0f",
   "metadata": {},
   "outputs": [
    {
     "name": "stdout",
     "output_type": "stream",
     "text": [
      "Iteration Number : 1\n",
      "---------------------\n",
      "  For alpha :  0.1     Accuracy :  100.0     Number of iterations : 984\n",
      "  For alpha :  0.2     Accuracy :  100.0     Number of iterations : 829\n",
      "  For alpha :  0.30000000000000004     Accuracy :  100.0     Number of iterations : 89\n",
      "  For alpha :  0.4     Accuracy :  100.0     Number of iterations : 761\n",
      "  For alpha :  0.5     Accuracy :  100.0     Number of iterations : 5\n",
      "  For alpha :  0.6     Accuracy :  100.0     Number of iterations : 4\n",
      "  For alpha :  0.7000000000000001     Accuracy :  100.0     Number of iterations : 5\n",
      "  For alpha :  0.8     Accuracy :  100.0     Number of iterations : 4\n",
      "  For alpha :  0.9     Accuracy :  100.0     Number of iterations : 5\n",
      "\n",
      "Iteration Number : 2\n",
      "---------------------\n",
      "  For alpha :  0.1     Accuracy :  100.0     Number of iterations : 964\n",
      "  For alpha :  0.2     Accuracy :  100.0     Number of iterations : 5\n",
      "  For alpha :  0.30000000000000004     Accuracy :  100.0     Number of iterations : 5\n",
      "  For alpha :  0.4     Accuracy :  100.0     Number of iterations : 5\n",
      "  For alpha :  0.5     Accuracy :  100.0     Number of iterations : 4\n",
      "  For alpha :  0.6     Accuracy :  100.0     Number of iterations : 927\n",
      "  For alpha :  0.7000000000000001     Accuracy :  100.0     Number of iterations : 4\n",
      "  For alpha :  0.8     Accuracy :  100.0     Number of iterations : 4\n",
      "  For alpha :  0.9     Accuracy :  100.0     Number of iterations : 4\n",
      "\n",
      "Iteration Number : 3\n",
      "---------------------\n",
      "  For alpha :  0.1     Accuracy :  100.0     Number of iterations : 943\n",
      "  For alpha :  0.2     Accuracy :  100.0     Number of iterations : 5\n",
      "  For alpha :  0.30000000000000004     Accuracy :  100.0     Number of iterations : 5\n",
      "  For alpha :  0.4 "
     ]
    }
   ],
   "source": [
    "log_reg = logistic_regression()\n",
    "log_reg.load_data(filename)\n",
    "df_validation, df_test = log_reg.split_dataset(validation_perc , training_perc)\n",
    "log_reg.find_weights(df_validation , alphas, number_of_iterations )\n",
    "log_reg.classify(df_test)"
   ]
  },
  {
   "cell_type": "code",
   "execution_count": null,
   "id": "7e84fd8f",
   "metadata": {},
   "outputs": [],
   "source": [
    "# df_validation = df_validation.reset_index(drop=True)\n",
    "# df_test = df_test.reset_index(drop=True)"
   ]
  },
  {
   "cell_type": "code",
   "execution_count": null,
   "id": "af18f313",
   "metadata": {},
   "outputs": [],
   "source": [
    "# for col in df_validation.columns[1:-1] :\n",
    "#     maximum = max(df_validation[col])\n",
    "#     minimum = min(df_validation[col])\n",
    "#     diff = maximum - minimum\n",
    "    \n",
    "#     df_validation[col] = (df_validation[col] - maximum) / diff\n",
    "#     df_test[col] = (df_test[col] - maximum) / diff\n",
    "# df_validation"
   ]
  },
  {
   "cell_type": "code",
   "execution_count": null,
   "id": "3775716c",
   "metadata": {},
   "outputs": [],
   "source": [
    "# def sigmoid(x,w):\n",
    "#     return 1/(1 + exp(-float(w.T@x)))"
   ]
  },
  {
   "cell_type": "code",
   "execution_count": null,
   "id": "4a077095",
   "metadata": {},
   "outputs": [],
   "source": [
    "# def liklihood(x,y,w):\n",
    "#     y_hat = sigmoid(x,w)\n",
    "#     if y_hat == 1: return y*log(y_hat)\n",
    "#     else : return y*log(abs(y_hat)) + (1-y)*log(abs(1-y_hat))"
   ]
  },
  {
   "cell_type": "code",
   "execution_count": null,
   "id": "e086537b",
   "metadata": {},
   "outputs": [],
   "source": [
    "# def norm(z):\n",
    "#     z = list(z)\n",
    "#     return float(sum([z**2 for z in z]))**0.5"
   ]
  },
  {
   "cell_type": "code",
   "execution_count": null,
   "id": "8a83455d",
   "metadata": {},
   "outputs": [],
   "source": [
    "# def logit(x,w):\n",
    "#     f_x = sigmoid(x,w)\n",
    "#     if f_x == 1 : return 1\n",
    "#     elif f_x == 0 : return 0 \n",
    "#     else : return log(abs(f_x/(1-f_x)))\n",
    "    "
   ]
  },
  {
   "cell_type": "code",
   "execution_count": null,
   "id": "6cf70d13-35c5-4a09-9623-49ff06972a00",
   "metadata": {},
   "outputs": [],
   "source": [
    "# maths.arange(0.1,1,0.1)"
   ]
  },
  {
   "cell_type": "code",
   "execution_count": null,
   "id": "174fac3c-0bc7-4064-a3b5-0031e6935754",
   "metadata": {},
   "outputs": [],
   "source": [
    "# training_perc = 0.8"
   ]
  },
  {
   "cell_type": "code",
   "execution_count": null,
   "id": "424af362-c45f-4222-8e8c-a388a3292e28",
   "metadata": {},
   "outputs": [],
   "source": [
    "# df_validation"
   ]
  },
  {
   "cell_type": "code",
   "execution_count": null,
   "id": "fe04118f-7d7f-4fec-a99c-090a9f3d0335",
   "metadata": {},
   "outputs": [],
   "source": [
    "# threshold = 0.5"
   ]
  },
  {
   "cell_type": "code",
   "execution_count": null,
   "id": "aa933250-ef7b-40c8-ad1f-2e9486d17360",
   "metadata": {},
   "outputs": [],
   "source": [
    "# epsilon = 1e-3\n",
    "# alphas = maths.arange(0.1,1,0.1)\n",
    "# training_number = int(len(df_validation) * training_perc)\n",
    "# number_of_iterations = 3\n",
    "# accuracies_list = []\n",
    "# iterations_list = []\n",
    "\n",
    "# for iteration_number in range(1,number_of_iterations+1):\n",
    "#     print(\"Iteration Number :\",iteration_number)\n",
    "#     print(\"---------------------\")\n",
    "\n",
    "#     alpha_accuracy = {}\n",
    "#     alpha_iterations = {}\n",
    "    \n",
    "#     for alpha in alphas:\n",
    "#         print(\"  For alpha : \",alpha, end = \" \")\n",
    "            \n",
    "#         df_validation = df_validation.sample(frac=1)\n",
    "#         df_validation_train = df_validation.iloc[:training_number]\n",
    "#         df_validation_test = df_validation.iloc[training_number:]\n",
    "    \n",
    "#         df_validation_train = df_validation_train.sample(frac=1)\n",
    "#         X = df_validation_train.iloc[:,:-1].reset_index(drop=True)\n",
    "#         Y = df_validation_train.iloc[:,-1].reset_index(drop=True)\n",
    "    \n",
    "#         w_star = maths.matrix(maths.random.rand(X.shape[1])).T\n",
    "#         w_old = w_star + [1]\n",
    "        \n",
    "#         liklihoods = [-1000,-100]\n",
    "#         norms = [1000,100]\n",
    "#         while (norms[-2]/norms[-1] - 1) > epsilon and liklihoods[-2] < liklihoods[-1] :\n",
    "            \n",
    "#             w_old = w_star\n",
    "#             loss = []\n",
    "        \n",
    "#             for i in range(len(X)):\n",
    "#                 x = maths.matrix(X.iloc[i]).T\n",
    "#                 y = Y.iloc[i]\n",
    "#                 y_hat = sigmoid(x,w_star)\n",
    "#                 w_star = w_star + alpha * (y - y_hat) * x\n",
    "#                 loss.append(liklihood(x,y,w_star))\n",
    "            \n",
    "#             norms.append(norm( w_star - w_old ))\n",
    "#             if len(norms) > 2: differential = norms[-2] - norms[-1]\n",
    "#             liklihoods.append(sum(loss))\n",
    "    \n",
    "#         df_validation_test['y_hat'] = df_validation_test.iloc[:,:-1] @ w_star   # Predicting\n",
    "#         df_validation_test['y_hat'] = df_validation_test['y_hat'].apply(lambda x : 1 if x > threshold else 0) \n",
    "    \n",
    "\n",
    "#         y = df_validation_test['y'].reset_index(drop=True)\n",
    "#         y_hat = df_validation_test['y_hat'].reset_index(drop = True)\n",
    "    \n",
    "#         tp = 0\n",
    "#         tn = 0\n",
    "#         for i in range(len(y)):\n",
    "#             if y[i] == y_hat[i] == 1:\n",
    "#                 tp = tp + 1\n",
    "#             elif y[i] == y_hat[i] == 0:\n",
    "#                 tn = tn + 1\n",
    "            \n",
    "#         accuracy = round((tp+tn)/(len(df_validation_test))*100,2)\n",
    "#         print(\"    Accuracy : \",accuracy, end = \" \")\n",
    "#         print(\"    Number of iterations :\",len(norms))\n",
    "\n",
    "#         alpha_accuracy.update({alpha:accuracy})\n",
    "#         alpha_iterations.update({alpha:len(norms)})\n",
    "        \n",
    "#     accuracies_list.append(alpha_accuracy)\n",
    "#     iterations_list.append(alpha_iterations)\n",
    "#     print()\n",
    "\n",
    "# df_accuracies = analytics.DataFrame(accuracies_list)\n",
    "# df_iterations = analytics.DataFrame(iterations_list)\n",
    "\n",
    "# if df_accuracies.mean().all() :\n",
    "#     alpha = df_iterations.mean().idxmin()\n",
    "# else : alpha = df_accuracies.mean().idxmax()\n",
    "\n",
    "# print(alpha)"
   ]
  },
  {
   "cell_type": "code",
   "execution_count": null,
   "id": "2c296da5-3472-40e9-abbb-bf5ec59d4666",
   "metadata": {},
   "outputs": [],
   "source": [
    "# df_accuracies = analytics.DataFrame(accuracies_list)\n",
    "# df_iterations = analytics.DataFrame(iterations_list)\n",
    "\n"
   ]
  },
  {
   "cell_type": "code",
   "execution_count": null,
   "id": "dcb00b37-4408-44fd-b927-226bdc262db9",
   "metadata": {},
   "outputs": [],
   "source": [
    "# if df_accuracies.mean().all() :\n",
    "#     alpha = df_iterations.mean().idxmin()\n",
    "# else : alpha = df_accuracies.mean().idxmax()\n",
    "\n",
    "# alpha\n",
    "    "
   ]
  },
  {
   "cell_type": "code",
   "execution_count": null,
   "id": "194599b8-4b62-4040-9b1d-5802ec471768",
   "metadata": {},
   "outputs": [],
   "source": [
    "# df_iterations.mean().idxmin()"
   ]
  },
  {
   "cell_type": "code",
   "execution_count": null,
   "id": "ace02ba1-5ad5-4784-ae4c-cad466ea5ad4",
   "metadata": {
    "scrolled": true
   },
   "outputs": [],
   "source": [
    "# y[0]"
   ]
  },
  {
   "cell_type": "code",
   "execution_count": null,
   "id": "a65988ab-cffb-4681-aa8e-93d086eb1e87",
   "metadata": {},
   "outputs": [],
   "source": [
    "# df_validation_test"
   ]
  },
  {
   "cell_type": "code",
   "execution_count": null,
   "id": "4b22d6f0",
   "metadata": {
    "scrolled": true
   },
   "outputs": [],
   "source": [
    "# graph.hist(norms)"
   ]
  },
  {
   "cell_type": "code",
   "execution_count": null,
   "id": "0755107c",
   "metadata": {},
   "outputs": [],
   "source": [
    "# x = [float(weight.T[0]) for weight in weights]\n",
    "# y = [float(weight.T[1]) for weight in weights]\n",
    "# z = [float(weight.T[2]) for weight in weights]\n",
    "\n",
    "# figure = graph.figure(figsize=(18,10))\n",
    "\n",
    "# graph.subplot(1,3,1)\n",
    "# graph.plot(x)\n",
    "# graph.title('X')\n",
    "\n",
    "# graph.subplot(1,3,2)\n",
    "# graph.plot(y)\n",
    "# graph.title('Y')\n",
    "\n",
    "# graph.subplot(1,3,3)\n",
    "# graph.plot(z)\n",
    "# graph.title('Z')\n",
    "\n",
    "# graph.show()"
   ]
  },
  {
   "cell_type": "code",
   "execution_count": null,
   "id": "f91c21be",
   "metadata": {},
   "outputs": [],
   "source": [
    "# liklihoods[-1] == max(liklihoods)"
   ]
  },
  {
   "cell_type": "code",
   "execution_count": null,
   "id": "650a4746",
   "metadata": {},
   "outputs": [],
   "source": [
    "# figure = graph.figure(figsize=(15,15))\n",
    "# graph.hist(liklihoods,label = 'Frequency of Liklihood')\n",
    "# graph.legend()\n",
    "# graph.title(\"Liklihood Frequency\")\n",
    "# graph.grid()\n",
    "# graph.xlabel(\"Liklihood Values\")\n",
    "# graph.ylabel(\"Frequency\")\n",
    "# graph.show()"
   ]
  },
  {
   "cell_type": "code",
   "execution_count": null,
   "id": "f98a32ba",
   "metadata": {},
   "outputs": [],
   "source": [
    "# figure = graph.figure(figsize=(15,15))\n",
    "# graph.scatter(sigmoids,liklihoods,c = 'blue',label = 'Liklihood',alpha = 0.1)\n",
    "# graph.legend()\n",
    "# graph.title(\"Liklihood vs Sigmoid\")\n",
    "# graph.grid()\n",
    "# graph.xlabel(\"Sigmoid\")\n",
    "# graph.ylabel(\"Liklihood\")\n",
    "# graph.show()"
   ]
  },
  {
   "cell_type": "code",
   "execution_count": null,
   "id": "2c20ea0e",
   "metadata": {},
   "outputs": [],
   "source": [
    "# graph.title(\"Liklihood\")\n",
    "# graph.plot(liklihoods)\n",
    "# print(max(liklihoods))"
   ]
  },
  {
   "cell_type": "code",
   "execution_count": null,
   "id": "1a82e18f",
   "metadata": {},
   "outputs": [],
   "source": [
    "# graph.title(\"Norms\")\n",
    "# graph.plot(norms)\n",
    "# print(min(norms))"
   ]
  },
  {
   "cell_type": "code",
   "execution_count": null,
   "id": "8a3e227d",
   "metadata": {},
   "outputs": [],
   "source": [
    "# threshold = 0.5"
   ]
  },
  {
   "cell_type": "code",
   "execution_count": null,
   "id": "feeed734",
   "metadata": {},
   "outputs": [],
   "source": [
    "# X = df_test.iloc[:,:-1]\n",
    "# Y = df_test.iloc[:,-1]\n",
    "# y_hat = []\n",
    "# dbs = []\n",
    "\n",
    "# for i in range(len(df_test)):\n",
    "#     x = X.iloc[i]\n",
    "#     y = Y.iloc[i]\n",
    "#     y_hat.append(logit(x,w_star))\n",
    "#     # dbs.append(w_star.T@x)\n",
    "\n",
    "# y_hat = [1 if y > threshold else 0 for y in y_hat]\n",
    "# df_test['y_hat'] = y_hat"
   ]
  },
  {
   "cell_type": "code",
   "execution_count": null,
   "id": "d81b2eb4",
   "metadata": {},
   "outputs": [],
   "source": [
    "# figure = graph.figure(figsize=(15,15))\n",
    "# graph.scatter([i for i in range(len(df_test['y']))],df_test['y'],alpha = 0.8,color = 'yellow')\n",
    "# graph.scatter([i for i in range(len(df_test['y_hat']))],df_test['y_hat'], alpha = 0.5, edgecolor = 'red',color = 'yellow')\n",
    "# graph.grid(True)\n",
    "# # graph.plot(dbs)"
   ]
  },
  {
   "cell_type": "code",
   "execution_count": null,
   "id": "36eecc25",
   "metadata": {},
   "outputs": [],
   "source": [
    "# w_star"
   ]
  },
  {
   "cell_type": "code",
   "execution_count": null,
   "id": "0748fdf6",
   "metadata": {},
   "outputs": [],
   "source": [
    "# create_confusion_matrix(df_test['y'],df_test['y_hat'])"
   ]
  },
  {
   "cell_type": "code",
   "execution_count": null,
   "id": "5e7ee757-5812-46f3-b25f-234d19ba2d78",
   "metadata": {},
   "outputs": [],
   "source": [
    "# norms_copy = norms.copy()"
   ]
  },
  {
   "cell_type": "code",
   "execution_count": null,
   "id": "340069b1-c76e-455e-877f-e742976945ec",
   "metadata": {},
   "outputs": [],
   "source": [
    "# figure = graph.figure(figsize=(20,15))\n",
    "# # graph.plot(norms,label = 'Norms')\n",
    "# # graph.scatter(norms.index(maths.median(norms)),maths.median(norms),color = 'red', marker = 'x' , label = 'Median')\n",
    "# # graph.scatter(norms.index(maths.mean(norms)),maths.mean(norms),color = 'red', marker = 'x' , label = 'Mean')\n",
    "# graph.grid(True)\n",
    "# graph.legend()\n",
    "# graph.xlim(500)\n",
    "# graph.ylim(0,0.020)\n",
    "# graph.show()\n",
    "# graph.ion()"
   ]
  },
  {
   "cell_type": "code",
   "execution_count": null,
   "id": "ff860f9d-9524-4b52-86dd-8153823230cd",
   "metadata": {},
   "outputs": [],
   "source": [
    "# k_norms = [i for i in norms if i > epsilon]"
   ]
  },
  {
   "cell_type": "code",
   "execution_count": null,
   "id": "877b11a7-b2b7-457d-87cb-7bfe97ba84a5",
   "metadata": {},
   "outputs": [],
   "source": [
    "# len(k_norms)"
   ]
  },
  {
   "cell_type": "code",
   "execution_count": null,
   "id": "b9d4b346-ea41-478e-ae48-12929cc6d8b3",
   "metadata": {},
   "outputs": [],
   "source": [
    "# diff = []\n",
    "# for i in range(len(k_norms)-1):\n",
    "#     diff.append(k_norms[i]-k_norms[i+1])\n",
    "# graph.plot(diff)\n",
    "# graph.xlim(0,1000)\n",
    "# graph.ylim(0,0.0001)\n",
    "# # graph.show()\n",
    "# # graph.ion()"
   ]
  },
  {
   "cell_type": "code",
   "execution_count": null,
   "id": "70eb2928-ea52-4ad5-95ec-ce09c9c58846",
   "metadata": {},
   "outputs": [],
   "source": [
    "# df_test.head()"
   ]
  },
  {
   "cell_type": "code",
   "execution_count": null,
   "id": "6fc05c0b-36e9-43d7-9d7a-d763f5de39aa",
   "metadata": {},
   "outputs": [],
   "source": [
    "# graph.scatter(df_test['x1'],df_test['x2'],c = 'blue')\n",
    "# # graph.plot(df_test.iloc[:,:3] @ w_star)\n",
    "# # graph.xlabel('x1')\n",
    "# # graph.ylabel('x2')\n"
   ]
  },
  {
   "cell_type": "code",
   "execution_count": null,
   "id": "fc3b0f37-aa1d-4f25-93ef-40679387379b",
   "metadata": {},
   "outputs": [],
   "source": [
    "# i = 0"
   ]
  },
  {
   "cell_type": "code",
   "execution_count": null,
   "id": "e4043920-365b-4059-9feb-5503dbebb288",
   "metadata": {},
   "outputs": [],
   "source": [
    "# k_norms[i] / k_norms[i+1]"
   ]
  },
  {
   "cell_type": "code",
   "execution_count": null,
   "id": "5589f8c1-607b-4e63-9d0b-068c83303898",
   "metadata": {},
   "outputs": [],
   "source": [
    "# i = 0\n",
    "# while (norms[i]/norms[i+1] - 1) > 0.0001: i = i+1\n",
    "# print(i)"
   ]
  }
 ],
 "metadata": {
  "kernelspec": {
   "display_name": "Python 3 (ipykernel)",
   "language": "python",
   "name": "python3"
  },
  "language_info": {
   "codemirror_mode": {
    "name": "ipython",
    "version": 3
   },
   "file_extension": ".py",
   "mimetype": "text/x-python",
   "name": "python",
   "nbconvert_exporter": "python",
   "pygments_lexer": "ipython3",
   "version": "3.10.12"
  }
 },
 "nbformat": 4,
 "nbformat_minor": 5
}
