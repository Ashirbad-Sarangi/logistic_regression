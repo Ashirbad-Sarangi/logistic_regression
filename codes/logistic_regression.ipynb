{
 "cells": [
  {
   "cell_type": "code",
   "execution_count": 1,
   "id": "70046f73",
   "metadata": {},
   "outputs": [],
   "source": [
    "import pandas as analytics\n",
    "import numpy as maths\n",
    "import matplotlib.pyplot as graph\n",
    "import os\n",
    "from math import exp , log"
   ]
  },
  {
   "cell_type": "code",
   "execution_count": 2,
   "id": "aa1bfd15",
   "metadata": {},
   "outputs": [],
   "source": [
    "from math import exp"
   ]
  },
  {
   "cell_type": "code",
   "execution_count": 3,
   "id": "5db666db",
   "metadata": {},
   "outputs": [],
   "source": [
    "os.chdir('../dependencies/')\n",
    "from logistic_regression import logistic_regression"
   ]
  },
  {
   "cell_type": "code",
   "execution_count": 17,
   "id": "c04e490e",
   "metadata": {},
   "outputs": [],
   "source": [
    "def loss(f_x,y):\n",
    "    return -((y*log(abs(f_x))) + ((1-y)*log(abs(1-f_x))))\n",
    "    "
   ]
  },
  {
   "cell_type": "code",
   "execution_count": 18,
   "id": "c43355b2",
   "metadata": {},
   "outputs": [],
   "source": [
    "def plot_graph(name,var):\n",
    "    figure = graph.figure(figsize = (15,10))\n",
    "    graph.ylabel(name)\n",
    "    graph.xlabel(\"Iterations\")\n",
    "    graph.title(name)\n",
    "    graph.plot(var,label=name)\n",
    "    graph.legend()\n",
    "    graph.grid(True)\n",
    "    "
   ]
  },
  {
   "cell_type": "code",
   "execution_count": 19,
   "id": "070faf83",
   "metadata": {},
   "outputs": [],
   "source": [
    "def norm(vector):\n",
    "    vector = [v**2 for v in vector]\n",
    "    vector = float(sum(vector))\n",
    "    vector = vector ** 0.5\n",
    "    return vector\n",
    "\n",
    "def sigmoid(x,w):\n",
    "    f_x = 1/(1 + exp(-float(maths.matmul(w.T,x)))) \n",
    "    return f_x\n",
    "\n",
    "def logit(f_x):\n",
    "    if f_x == 1: return 0\n",
    "    if f_x == 0: return 1\n",
    "    else : return log(abs(f_x)/abs(1-f_x))"
   ]
  },
  {
   "cell_type": "code",
   "execution_count": 20,
   "id": "3e1e396c",
   "metadata": {},
   "outputs": [],
   "source": [
    "def create_confusion_matrix(y,y_hat):\n",
    "    \"\"\" Creating the confusion matrix \"\"\"\n",
    "\n",
    "    tp = 0\n",
    "    fp = 0\n",
    "    tn = 0\n",
    "    fn = 0\n",
    "    for i in range(len(y)):\n",
    "        if y[i] == y_hat[i] == 1:\n",
    "            tp = tp + 1\n",
    "        elif y[i] == y_hat[i] == 0:\n",
    "            tn = tn + 1\n",
    "        elif y[i] == 1 and y_hat[i] == 0:\n",
    "            fn = fn + 1\n",
    "        else :\n",
    "            fp = fp + 1\n",
    "\n",
    "    confusion_matrix = {'tp':tp,'tn':tn,'fp':fp,'fn':fn}\n",
    "    print(\"Confusion Matrix : \",confusion_matrix)\n",
    "    accuracy = round((confusion_matrix['tp']+confusion_matrix['tn'])/(confusion_matrix['tp'] + confusion_matrix['tn'] + confusion_matrix['fp'] + confusion_matrix['fn'])*100,2)\n",
    "    precision = round((confusion_matrix['tp'])/(confusion_matrix['fp']+confusion_matrix['tp'])*100,2) \n",
    "    sensitivity = round((confusion_matrix['tp'])/(confusion_matrix['tp']+confusion_matrix['fn'])*100,2)\n",
    "    specificity = round((confusion_matrix['tn'])/(confusion_matrix['fp']+confusion_matrix['tn'])*100,2)\n",
    "\n",
    "    \n",
    "    print('Accuracy : ', accuracy)\n",
    "    print('Precision : ', precision)\n",
    "    print('Senstivity : ', sensitivity)\n",
    "    print('Specificity : ', specificity)\n",
    "    \n",
    "#     accuracy = find_accuracy()\n",
    "#     precision = find_precision()\n",
    "#     sensitivity = find_sensitivity()\n",
    "#     specificity = find_specificity()\n",
    "#     fscore = find_fscore()\n",
    "\n",
    "\n",
    "def find_precision(show = True):\n",
    "    \"\"\" Finding Precision \"\"\"\n",
    "\n",
    "    confusion_matrix = confusion_matrix\n",
    "    precision = round((confusion_matrix['tp'])/(confusion_matrix['fp']+confusion_matrix['tp'])*100,2) \n",
    "    if show : print(\"Precision : \",precision,\"%\")\n",
    "    return precision\n",
    "\n",
    "def find_accuracy(show = True):\n",
    "    \"\"\" Finding Accuracy \"\"\"\n",
    "\n",
    "    confusion_matrix = confusion_matrix\n",
    "    accuracy = round((confusion_matrix['tp']+confusion_matrix['tn'])/(confusion_matrix['tp'] + confusion_matrix['tn'] + confusion_matrix['fp'] + confusion_matrix['fn'])*100,2)\n",
    "    if show : print(\"Accuracy : \",accuracy,\"%\")\n",
    "    return accuracy\n",
    "\n",
    "def find_sensitivity(show = True):\n",
    "    \"\"\" Finding Sensivity \"\"\"\n",
    "\n",
    "    confusion_matrix = confusion_matrix\n",
    "    sensitivity = round((confusion_matrix['tp'])/(confusion_matrix['tp']+confusion_matrix['fn'])*100,2)\n",
    "    if show : print(\"Sensivity : \",sensitivity,\"%\")\n",
    "    return sensitivity\n",
    "\n",
    "def find_specificity(show = True):\n",
    "    \"\"\" Finding Specificity \"\"\"\n",
    "\n",
    "    confusion_matrix = confusion_matrix\n",
    "    specificity = round((confusion_matrix['tn'])/(confusion_matrix['fp']+confusion_matrix['tn'])*100,2)\n",
    "    if show : print(\"Specificity : \",specificity,\"%\")\n",
    "    return specificity\n",
    "\n",
    "def find_fscore(show=True):\n",
    "    \"\"\" Finding FScore \"\"\"\n",
    "\n",
    "    confusion_matrix = confusion_matrix\n",
    "    f_score = round(2/((1/find_precision(False))+(1/find_sensitivity(False))),2)\n",
    "    if show : print(\"F1 Score : \",f_score)\n",
    "    return f_score        \n"
   ]
  },
  {
   "cell_type": "code",
   "execution_count": 21,
   "id": "01ef47e2",
   "metadata": {
    "scrolled": false
   },
   "outputs": [],
   "source": [
    "filename = 'data1'\n",
    "validation_perc = 0.7\n",
    "training_perc = 0.8\n",
    "alphas = maths.arange(0,1,0.1)\n",
    "number_of_iterations = 10\n",
    "training_perc = 0.7"
   ]
  },
  {
   "cell_type": "code",
   "execution_count": 22,
   "id": "146d0d0f",
   "metadata": {
    "scrolled": false
   },
   "outputs": [],
   "source": [
    "log_reg = logistic_regression()\n",
    "log_reg.load_data(filename)\n",
    "df_validation, df_test = log_reg.split_dataset(validation_perc , training_perc)\n",
    "# log_reg.find_weights(alphas, number_of_iterations )\n",
    "# log_reg.classify(df_test)"
   ]
  },
  {
   "cell_type": "code",
   "execution_count": 23,
   "id": "af18f313",
   "metadata": {},
   "outputs": [
    {
     "data": {
      "text/html": [
       "<div>\n",
       "<style scoped>\n",
       "    .dataframe tbody tr th:only-of-type {\n",
       "        vertical-align: middle;\n",
       "    }\n",
       "\n",
       "    .dataframe tbody tr th {\n",
       "        vertical-align: top;\n",
       "    }\n",
       "\n",
       "    .dataframe thead th {\n",
       "        text-align: right;\n",
       "    }\n",
       "</style>\n",
       "<table border=\"1\" class=\"dataframe\">\n",
       "  <thead>\n",
       "    <tr style=\"text-align: right;\">\n",
       "      <th></th>\n",
       "      <th>x0</th>\n",
       "      <th>x1</th>\n",
       "      <th>x2</th>\n",
       "      <th>y</th>\n",
       "    </tr>\n",
       "  </thead>\n",
       "  <tbody>\n",
       "    <tr>\n",
       "      <th>106</th>\n",
       "      <td>1</td>\n",
       "      <td>-0.673469</td>\n",
       "      <td>-0.632653</td>\n",
       "      <td>0</td>\n",
       "    </tr>\n",
       "    <tr>\n",
       "      <th>25</th>\n",
       "      <td>1</td>\n",
       "      <td>-0.857143</td>\n",
       "      <td>-0.061224</td>\n",
       "      <td>1</td>\n",
       "    </tr>\n",
       "    <tr>\n",
       "      <th>103</th>\n",
       "      <td>1</td>\n",
       "      <td>-0.265306</td>\n",
       "      <td>-0.265306</td>\n",
       "      <td>0</td>\n",
       "    </tr>\n",
       "    <tr>\n",
       "      <th>170</th>\n",
       "      <td>1</td>\n",
       "      <td>-0.183673</td>\n",
       "      <td>-0.551020</td>\n",
       "      <td>0</td>\n",
       "    </tr>\n",
       "    <tr>\n",
       "      <th>27</th>\n",
       "      <td>1</td>\n",
       "      <td>-0.530612</td>\n",
       "      <td>-0.448980</td>\n",
       "      <td>1</td>\n",
       "    </tr>\n",
       "    <tr>\n",
       "      <th>...</th>\n",
       "      <td>...</td>\n",
       "      <td>...</td>\n",
       "      <td>...</td>\n",
       "      <td>...</td>\n",
       "    </tr>\n",
       "    <tr>\n",
       "      <th>135</th>\n",
       "      <td>1</td>\n",
       "      <td>-0.306122</td>\n",
       "      <td>-0.591837</td>\n",
       "      <td>0</td>\n",
       "    </tr>\n",
       "    <tr>\n",
       "      <th>159</th>\n",
       "      <td>1</td>\n",
       "      <td>-0.530612</td>\n",
       "      <td>-0.836735</td>\n",
       "      <td>0</td>\n",
       "    </tr>\n",
       "    <tr>\n",
       "      <th>1</th>\n",
       "      <td>1</td>\n",
       "      <td>-0.489796</td>\n",
       "      <td>-0.224490</td>\n",
       "      <td>1</td>\n",
       "    </tr>\n",
       "    <tr>\n",
       "      <th>80</th>\n",
       "      <td>1</td>\n",
       "      <td>-0.551020</td>\n",
       "      <td>-0.081633</td>\n",
       "      <td>1</td>\n",
       "    </tr>\n",
       "    <tr>\n",
       "      <th>38</th>\n",
       "      <td>1</td>\n",
       "      <td>-0.836735</td>\n",
       "      <td>-0.346939</td>\n",
       "      <td>1</td>\n",
       "    </tr>\n",
       "  </tbody>\n",
       "</table>\n",
       "<p>140 rows × 4 columns</p>\n",
       "</div>"
      ],
      "text/plain": [
       "     x0        x1        x2  y\n",
       "106   1 -0.673469 -0.632653  0\n",
       "25    1 -0.857143 -0.061224  1\n",
       "103   1 -0.265306 -0.265306  0\n",
       "170   1 -0.183673 -0.551020  0\n",
       "27    1 -0.530612 -0.448980  1\n",
       "..   ..       ...       ... ..\n",
       "135   1 -0.306122 -0.591837  0\n",
       "159   1 -0.530612 -0.836735  0\n",
       "1     1 -0.489796 -0.224490  1\n",
       "80    1 -0.551020 -0.081633  1\n",
       "38    1 -0.836735 -0.346939  1\n",
       "\n",
       "[140 rows x 4 columns]"
      ]
     },
     "execution_count": 23,
     "metadata": {},
     "output_type": "execute_result"
    }
   ],
   "source": [
    "for col in df_validation.columns[1:-1] :\n",
    "    maximum = max(df_validation[col])\n",
    "    minimum = min(df_validation[col])\n",
    "    diff = maximum - minimum\n",
    "    \n",
    "    df_validation[col] = (df_validation[col] - maximum) / diff\n",
    "    df_test[col] = (df_test[col] - maximum) / diff\n",
    "df_validation"
   ]
  },
  {
   "cell_type": "code",
   "execution_count": 24,
   "id": "7ad50251",
   "metadata": {
    "scrolled": false
   },
   "outputs": [
    {
     "name": "stdout",
     "output_type": "stream",
     "text": [
      "[[ -3.34206461]\n",
      " [-23.40172109]\n",
      " [ 19.38916852]]\n",
      "64121\n"
     ]
    },
    {
     "data": {
      "image/png": "[encoded data removed]",
      "text/plain": [
       "<Figure size 1080x720 with 1 Axes>"
      ]
     },
     "metadata": {
      "needs_background": "light"
     },
     "output_type": "display_data"
    },
    {
     "data": {
      "image/png": "[encoded data removed]",
      "text/plain": [
       "<Figure size 1080x720 with 1 Axes>"
      ]
     },
     "metadata": {
      "needs_background": "light"
     },
     "output_type": "display_data"
    }
   ],
   "source": [
    "X = df_validation.iloc[:,:-1]\n",
    "Y = df_validation.iloc[:,-1]\n",
    "\n",
    "w_star = maths.matrix(maths.random.rand(X.shape[1])).T\n",
    "\n",
    "w_old = w_star + [1]\n",
    "\n",
    "iteration_number = 1\n",
    "\n",
    "epsilon = 1e-5\n",
    "alpha = 0.1\n",
    "norms = [1]\n",
    "losses = []\n",
    "cost = []\n",
    "sigmoids = []\n",
    "logits = []\n",
    "\n",
    "while norms[-1] > epsilon :\n",
    "    w_old = w_star\n",
    "    iteration_number = iteration_number + 1\n",
    "    for i in range(len(X)):\n",
    "        x = maths.matrix(X.iloc[i]).T\n",
    "        y = Y.iloc[i]\n",
    "        f_x = sigmoid(x,w_star)\n",
    "        w_star = w_star + alpha * (y - f_x) * x\n",
    "\n",
    "        norms.append(norm( w_star - w_old ))\n",
    "        w_old = w_star\n",
    "\n",
    "        sigmoids.append(f_x)\n",
    "        losses.append(loss(f_x,y))\n",
    "        \n",
    "        logits.append(logit(f_x))\n",
    "        \n",
    "    cost.append(sum(losses))\n",
    "    \n",
    "sigmoids.sort()\n",
    "        \n",
    "plot_graph(\"Cost\",cost)\n",
    "plot_graph('Sigmoids',sigmoids)\n",
    "# plot_graph(\"Norm\",norms)\n",
    "\n",
    "print(w_star)\n",
    "print(len(norms))"
   ]
  },
  {
   "cell_type": "code",
   "execution_count": 12,
   "id": "088f6ec8",
   "metadata": {},
   "outputs": [],
   "source": [
    "threshold = 0.5"
   ]
  },
  {
   "cell_type": "code",
   "execution_count": 13,
   "id": "0ab4217c",
   "metadata": {},
   "outputs": [
    {
     "name": "stdout",
     "output_type": "stream",
     "text": [
      "Confusion Matrix :  {'tp': 69, 'tn': 68, 'fp': 0, 'fn': 3}\n",
      "Accuracy :  97.86 %\n",
      "Precision :  100.0 %\n",
      "Sensivity :  95.83 %\n",
      "Specificity :  100.0 %\n",
      "F1 Score :  97.87\n"
     ]
    }
   ],
   "source": [
    "y_hat = []\n",
    "for i in range(len(df_validation)):\n",
    "    x = maths.matrix(df_validation.iloc[i,:-1]).T\n",
    "    y_hat.append(logit(sigmoid(x,w_star))) \n",
    "df_validation['y_hat'] = y_hat\n",
    "df_validation['y_hat'] = df_validation['y_hat'].apply(lambda x : 1 if x>threshold else 0) \n",
    "log_reg.create_confusion_matrix(list(df_validation['y']),list(df_validation['y_hat']))"
   ]
  },
  {
   "cell_type": "code",
   "execution_count": 14,
   "id": "3d5e3663",
   "metadata": {},
   "outputs": [
    {
     "data": {
      "text/plain": [
       "<matplotlib.legend.Legend at 0x7f3191037160>"
      ]
     },
     "execution_count": 14,
     "metadata": {},
     "output_type": "execute_result"
    },
    {
     "data": {
      "text/plain": [
       "<Figure size 1080x1080 with 0 Axes>"
      ]
     },
     "metadata": {},
     "output_type": "display_data"
    },
    {
     "data": {
      "image/png": "[encoded data removed]",
      "text/plain": [
       "<Figure size 1080x720 with 1 Axes>"
      ]
     },
     "metadata": {
      "needs_background": "light"
     },
     "output_type": "display_data"
    }
   ],
   "source": [
    "y = list(df_validation['y'])\n",
    "y_hat = list(df_validation['y_hat'])\n",
    "\n",
    "y.sort()\n",
    "y_hat.sort()\n",
    "\n",
    "figure = graph.figure(figsize=(15,15))\n",
    "\n",
    "plot_graph('Y',y)\n",
    "graph.scatter([i for i in range(len(y_hat))],y_hat,c='r',label='Predicted')\n",
    "# graph.scatter([i for i in range(len(y))],y,c='b',label='Actual',alpha = 0.5,edgecolors = 'pink')\n",
    "\n",
    "\n",
    "graph.legend()"
   ]
  },
  {
   "cell_type": "code",
   "execution_count": 15,
   "id": "233144b4",
   "metadata": {},
   "outputs": [
    {
     "name": "stdout",
     "output_type": "stream",
     "text": [
      "Confusion Matrix :  {'tp': 28, 'tn': 32, 'fp': 0, 'fn': 0}\n",
      "Accuracy :  100.0 %\n",
      "Precision :  100.0 %\n",
      "Sensivity :  100.0 %\n",
      "Specificity :  100.0 %\n",
      "F1 Score :  100.0\n"
     ]
    }
   ],
   "source": [
    "y_hat = []\n",
    "for i in range(len(df_test)):\n",
    "    x = maths.matrix(df_test.iloc[i,:-1]).T\n",
    "    y_hat.append(logit(sigmoid(x,w_star))) \n",
    "df_test['y_hat'] = y_hat\n",
    "df_test['y_hat'] = df_test['y_hat'].apply(lambda x : 1 if x>threshold else 0) \n",
    "log_reg.create_confusion_matrix(list(df_test['y']),list(df_test['y_hat']))"
   ]
  },
  {
   "cell_type": "code",
   "execution_count": 16,
   "id": "3644e903",
   "metadata": {},
   "outputs": [
    {
     "data": {
      "text/plain": [
       "<matplotlib.legend.Legend at 0x7f31932efc40>"
      ]
     },
     "execution_count": 16,
     "metadata": {},
     "output_type": "execute_result"
    },
    {
     "data": {
      "image/png": "[encoded data removed]",
      "text/plain": [
       "<Figure size 1080x720 with 1 Axes>"
      ]
     },
     "metadata": {
      "needs_background": "light"
     },
     "output_type": "display_data"
    }
   ],
   "source": [
    "y = list(df_test['y'])\n",
    "y_hat = list(df_test['y_hat'])\n",
    "\n",
    "y.sort()\n",
    "y_hat.sort()\n",
    "\n",
    "plot_graph('Y',y)\n",
    "graph.scatter([i for i in range(len(y_hat))],y_hat,c='r',label='Predicted')\n",
    "graph.legend()"
   ]
  }
 ],
 "metadata": {
  "kernelspec": {
   "display_name": "Python 3 (ipykernel)",
   "language": "python",
   "name": "python3"
  },
  "language_info": {
   "codemirror_mode": {
    "name": "ipython",
    "version": 3
   },
   "file_extension": ".py",
   "mimetype": "text/x-python",
   "name": "python",
   "nbconvert_exporter": "python",
   "pygments_lexer": "ipython3",
   "version": "3.10.12"
  }
 },
 "nbformat": 4,
 "nbformat_minor": 5
}
